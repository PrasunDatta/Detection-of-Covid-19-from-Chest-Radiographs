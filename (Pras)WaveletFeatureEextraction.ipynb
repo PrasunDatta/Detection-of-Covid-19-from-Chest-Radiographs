{
  "nbformat": 4,
  "nbformat_minor": 0,
  "metadata": {
    "colab": {
      "provenance": [],
      "machine_shape": "hm",
      "mount_file_id": "1bisXS9RshGpO7VfXtz7mw6rM9FFWAlCS",
      "authorship_tag": "ABX9TyOTB+VfHjk3AxjQqyzzW7WL",
      "include_colab_link": true
    },
    "kernelspec": {
      "name": "python3",
      "display_name": "Python 3"
    }
  },
  "cells": [
    {
      "cell_type": "markdown",
      "metadata": {
        "id": "view-in-github",
        "colab_type": "text"
      },
      "source": [
        "<a href=\"https://colab.research.google.com/github/PrasunDatta/Detection-of-Covid-19-from-Chest-Radiographs/blob/main/(Pras)WaveletFeatureEextraction.ipynb\" target=\"_parent\"><img src=\"https://colab.research.google.com/assets/colab-badge.svg\" alt=\"Open In Colab\"/></a>"
      ]
    },
    {
      "cell_type": "code",
      "metadata": {
        "id": "q6ou7XyL-Z44",
        "colab": {
          "base_uri": "https://localhost:8080/",
          "height": 71
        },
        "outputId": "0c3ace3e-f930-4bb5-8008-9490973f9af7"
      },
      "source": [
        "import cv2\n",
        "from google.colab.patches import cv2_imshow\n",
        "import numpy\n",
        "import glob\n",
        "import pylab as plt\n",
        "import os\n",
        "import numpy as np\n",
        "import matplotlib.pyplot as plt\n",
        "import pywt\n",
        "import pywt.data\n",
        "from skimage import io, color\n",
        "from numpy import save\n",
        "import pandas as pd\n",
        "from sklearn.preprocessing import LabelEncoder\n",
        "from sklearn.utils import shuffle\n",
        "import seaborn as sns\n",
        "from sklearn.ensemble import GradientBoostingClassifier\n",
        "from sklearn.preprocessing import StandardScaler\n",
        "from sklearn.metrics import accuracy_score\n",
        "from sklearn.preprocessing import MinMaxScaler"
      ],
      "execution_count": null,
      "outputs": [
        {
          "output_type": "stream",
          "text": [
            "/usr/local/lib/python3.6/dist-packages/statsmodels/tools/_testing.py:19: FutureWarning: pandas.util.testing is deprecated. Use the functions in the public API at pandas.testing instead.\n",
            "  import pandas.util.testing as tm\n"
          ],
          "name": "stderr"
        }
      ]
    },
    {
      "cell_type": "code",
      "metadata": {
        "id": "wa-8OgEwYQf7"
      },
      "source": [
        "# # //This code snippet will first make a directory to save the corresponding \".npz\" of each image.Hence here it will\n",
        "# # //create 3 folder under the MergedDataset Folder.Then in the corresponding folder it will sequentially save the\n",
        "# # //feature matrix for each image.\n",
        "# folders = glob.glob('/content/drive/My Drive/final_dataset/*')\n",
        "# imagesall = []\n",
        "# for folder in folders:\n",
        "#   # p = folder + '_npy'\n",
        "#   # os.mkdir(p)\n",
        "#   imagesall = glob.glob(folder + '/*')\n",
        "#   print(imagesall)\n",
        "#   break\n",
        "#   # for k in range(len(imagesall)):\n",
        "#   #   # //do some preprocessing on the image \n",
        "#   #   image = cv2.imread(imagesall[k])\n",
        "#   #   image = cv2.cvtColor(image, cv2.COLOR_BGR2GRAY)\n",
        "#   #   image = cv2.resize(image, (224, 224))\n",
        "#   #   image = np.float32(image)\n",
        "#   #   image /= 255\n",
        "#   #   # //Calculate the feature matrix using the wavelet transform \n",
        "#   #   coeffs2 = pywt.dwt2(image, 'haar')\n",
        "#   #   coeffs2 = np.array(coeffs2)\n",
        "#   #   # //Save the feature matrix in the form of\".npy\" file\n",
        "#   #   np.save(os.path.join(p , str(k)+ '_jpg') ,coeffs2)"
      ],
      "execution_count": null,
      "outputs": []
    },
    {
      "cell_type": "code",
      "metadata": {
        "id": "yvPEcJHU1M_D"
      },
      "source": [
        "# # //Here is the following code snippet to visualize the wavelet transform of a specific sample image.\n",
        "# # //We have here implemented wavelet transform utilizing \"Haar\" method generally used For x-ray images.\n",
        "\n",
        "# import numpy as np\n",
        "# import matplotlib.pyplot as plt\n",
        "# import pywt\n",
        "# import pywt.data\n",
        "# import cv2\n",
        "# # //Reading the image And doing some preprocessing\n",
        "\n",
        "# image = cv2.imread('/content/drive/My Drive/final_dataset/covid/covid_0.jpg')\n",
        "# image = cv2.cvtColor(image, cv2.COLOR_BGR2GRAY)\n",
        "# image = cv2.resize(image, (224, 224))\n",
        "# image = np.float32(image)\n",
        "# image /= 255\n",
        "# # Wavelet transform of image, and plot approximation and details\n",
        "# titles = ['Approximation', ' Horizontal detail',\n",
        "#           'Vertical detail', 'Diagonal detail']\n",
        "# coeffs2 = pywt.dwt2(image, 'haar')\n",
        "# LL, (LH, HL, HH) = coeffs2\n",
        "\n",
        "# print ('Approximation detail is:'+ str(LL))\n",
        "# print ('Horizontal detail :'+ str(LH))\n",
        "# print('Vertical Detail:' + str(HL))\n",
        "# print ('Diagonal Detail:' + str(HH))\n",
        "\n",
        "# # //Visulizing the extracted features along diggerent dimensions/directions\n",
        "\n",
        "# fig = plt.figure(figsize=(12, 3))\n",
        "# for i, a in enumerate([LL, LH, HL, HH]):\n",
        "#     ax = fig.add_subplot(1, 4, i + 1)\n",
        "#     ax.imshow(a, interpolation=\"nearest\", cmap=plt.cm.gray)\n",
        "#     ax.set_title(titles[i], fontsize=10)\n",
        "#     ax.set_xticks([])\n",
        "#     ax.set_yticks([])\n",
        "\n",
        "# fig.tight_layout()\n",
        "# plt.show()"
      ],
      "execution_count": null,
      "outputs": []
    },
    {
      "cell_type": "code",
      "metadata": {
        "id": "nqLDGtjd9L51"
      },
      "source": [
        "# image = cv2.imread('/content/drive/My Drive/Abar_ dataset/covid/covid_100.jpg')\n",
        "# image = cv2.cvtColor(image, cv2.COLOR_BGR2GRAY)\n",
        "# image = cv2.resize(image, (224, 224))\n",
        "image = np.float32(image)\n",
        "image /= 255\n",
        "# coeffs2 = pywt.dwt2(image, 'haar')\n",
        "# #coeffs = pywt.wavedec2(image,'haar')\n",
        "# #arr, coeff_slices = pywt.coeffs_to_array(coeffs)\n",
        "# # arr, coeff_slices, coeff_shapes = pywt.ravel_coeffs(coeffs2)\n",
        "# LL, (LH, HL, HH) = coeffs2\n",
        "# #arr.shape"
      ],
      "execution_count": null,
      "outputs": []
    },
    {
      "cell_type": "code",
      "metadata": {
        "id": "OAlj5T162o6R",
        "colab": {
          "base_uri": "https://localhost:8080/",
          "height": 1000
        },
        "outputId": "1891321a-7abe-4dba-a932-46508675f795"
      },
      "source": [
        "CovidCoeff =[]\n",
        "imagesall = glob.glob(\"/content/drive/My Drive/(Prasun)AllCodes&Results/CovPre/*\")\n",
        "print(len(imagesall))\n",
        "for k in range(len(imagesall)):\n",
        "    # if k==22:\n",
        "    #   continue\n",
        "    # else:\n",
        "      image = cv2.imread(\"/content/drive/My Drive/(Prasun)AllCodes&Results/CovPre/\"+\"covid_{}\".format(k+1))\n",
        "\n",
        "      print(\"/content/drive/My Drive/Abar_ dataset/covid/\"+\"covid_{}.jpg\".format(k+1))\n",
        "\n",
        "      image = cv2.cvtColor(image, cv2.COLOR_BGR2GRAY)\n",
        "      image = cv2.resize(image,(224,224))\n",
        "      image = np.float32(image)\n",
        "      image /= 255\n",
        "      coeffs2 = pywt.dwt2(image, 'haar')\n",
        "      LL, (LH, HL, HH) = coeffs2\n",
        "      LLflatten = LL.flatten()\n",
        "      LHflatten = LH.flatten()\n",
        "      HLflatten = HL.flatten()\n",
        "      HHflatten = HH.flatten()\n",
        "      total  = np.append(LLflatten,LHflatten)\n",
        "      total1 = np.append(total ,HLflatten )\n",
        "      total2 = np.append(total1,HHflatten)\n",
        "\n",
        "      CovidCoeff.append(total2)"
      ],
      "execution_count": null,
      "outputs": [
        {
          "output_type": "stream",
          "text": [
            "236\n",
            "/content/drive/My Drive/Abar_ dataset/covid/covid_1.jpg\n",
            "/content/drive/My Drive/Abar_ dataset/covid/covid_2.jpg\n",
            "/content/drive/My Drive/Abar_ dataset/covid/covid_3.jpg\n",
            "/content/drive/My Drive/Abar_ dataset/covid/covid_4.jpg\n",
            "/content/drive/My Drive/Abar_ dataset/covid/covid_5.jpg\n",
            "/content/drive/My Drive/Abar_ dataset/covid/covid_6.jpg\n",
            "/content/drive/My Drive/Abar_ dataset/covid/covid_7.jpg\n",
            "/content/drive/My Drive/Abar_ dataset/covid/covid_8.jpg\n",
            "/content/drive/My Drive/Abar_ dataset/covid/covid_9.jpg\n",
            "/content/drive/My Drive/Abar_ dataset/covid/covid_10.jpg\n",
            "/content/drive/My Drive/Abar_ dataset/covid/covid_11.jpg\n",
            "/content/drive/My Drive/Abar_ dataset/covid/covid_12.jpg\n",
            "/content/drive/My Drive/Abar_ dataset/covid/covid_13.jpg\n",
            "/content/drive/My Drive/Abar_ dataset/covid/covid_14.jpg\n",
            "/content/drive/My Drive/Abar_ dataset/covid/covid_15.jpg\n",
            "/content/drive/My Drive/Abar_ dataset/covid/covid_16.jpg\n",
            "/content/drive/My Drive/Abar_ dataset/covid/covid_17.jpg\n",
            "/content/drive/My Drive/Abar_ dataset/covid/covid_18.jpg\n",
            "/content/drive/My Drive/Abar_ dataset/covid/covid_19.jpg\n",
            "/content/drive/My Drive/Abar_ dataset/covid/covid_20.jpg\n",
            "/content/drive/My Drive/Abar_ dataset/covid/covid_21.jpg\n",
            "/content/drive/My Drive/Abar_ dataset/covid/covid_22.jpg\n",
            "/content/drive/My Drive/Abar_ dataset/covid/covid_23.jpg\n",
            "/content/drive/My Drive/Abar_ dataset/covid/covid_24.jpg\n",
            "/content/drive/My Drive/Abar_ dataset/covid/covid_25.jpg\n",
            "/content/drive/My Drive/Abar_ dataset/covid/covid_26.jpg\n",
            "/content/drive/My Drive/Abar_ dataset/covid/covid_27.jpg\n",
            "/content/drive/My Drive/Abar_ dataset/covid/covid_28.jpg\n",
            "/content/drive/My Drive/Abar_ dataset/covid/covid_29.jpg\n",
            "/content/drive/My Drive/Abar_ dataset/covid/covid_30.jpg\n",
            "/content/drive/My Drive/Abar_ dataset/covid/covid_31.jpg\n",
            "/content/drive/My Drive/Abar_ dataset/covid/covid_32.jpg\n",
            "/content/drive/My Drive/Abar_ dataset/covid/covid_33.jpg\n",
            "/content/drive/My Drive/Abar_ dataset/covid/covid_34.jpg\n",
            "/content/drive/My Drive/Abar_ dataset/covid/covid_35.jpg\n",
            "/content/drive/My Drive/Abar_ dataset/covid/covid_36.jpg\n",
            "/content/drive/My Drive/Abar_ dataset/covid/covid_37.jpg\n",
            "/content/drive/My Drive/Abar_ dataset/covid/covid_38.jpg\n",
            "/content/drive/My Drive/Abar_ dataset/covid/covid_39.jpg\n",
            "/content/drive/My Drive/Abar_ dataset/covid/covid_40.jpg\n",
            "/content/drive/My Drive/Abar_ dataset/covid/covid_41.jpg\n",
            "/content/drive/My Drive/Abar_ dataset/covid/covid_42.jpg\n",
            "/content/drive/My Drive/Abar_ dataset/covid/covid_43.jpg\n",
            "/content/drive/My Drive/Abar_ dataset/covid/covid_44.jpg\n",
            "/content/drive/My Drive/Abar_ dataset/covid/covid_45.jpg\n",
            "/content/drive/My Drive/Abar_ dataset/covid/covid_46.jpg\n",
            "/content/drive/My Drive/Abar_ dataset/covid/covid_47.jpg\n",
            "/content/drive/My Drive/Abar_ dataset/covid/covid_48.jpg\n",
            "/content/drive/My Drive/Abar_ dataset/covid/covid_49.jpg\n",
            "/content/drive/My Drive/Abar_ dataset/covid/covid_50.jpg\n",
            "/content/drive/My Drive/Abar_ dataset/covid/covid_51.jpg\n",
            "/content/drive/My Drive/Abar_ dataset/covid/covid_52.jpg\n",
            "/content/drive/My Drive/Abar_ dataset/covid/covid_53.jpg\n",
            "/content/drive/My Drive/Abar_ dataset/covid/covid_54.jpg\n",
            "/content/drive/My Drive/Abar_ dataset/covid/covid_55.jpg\n",
            "/content/drive/My Drive/Abar_ dataset/covid/covid_56.jpg\n",
            "/content/drive/My Drive/Abar_ dataset/covid/covid_57.jpg\n",
            "/content/drive/My Drive/Abar_ dataset/covid/covid_58.jpg\n",
            "/content/drive/My Drive/Abar_ dataset/covid/covid_59.jpg\n",
            "/content/drive/My Drive/Abar_ dataset/covid/covid_60.jpg\n",
            "/content/drive/My Drive/Abar_ dataset/covid/covid_61.jpg\n",
            "/content/drive/My Drive/Abar_ dataset/covid/covid_62.jpg\n",
            "/content/drive/My Drive/Abar_ dataset/covid/covid_63.jpg\n",
            "/content/drive/My Drive/Abar_ dataset/covid/covid_64.jpg\n",
            "/content/drive/My Drive/Abar_ dataset/covid/covid_65.jpg\n",
            "/content/drive/My Drive/Abar_ dataset/covid/covid_66.jpg\n",
            "/content/drive/My Drive/Abar_ dataset/covid/covid_67.jpg\n",
            "/content/drive/My Drive/Abar_ dataset/covid/covid_68.jpg\n",
            "/content/drive/My Drive/Abar_ dataset/covid/covid_69.jpg\n",
            "/content/drive/My Drive/Abar_ dataset/covid/covid_70.jpg\n",
            "/content/drive/My Drive/Abar_ dataset/covid/covid_71.jpg\n",
            "/content/drive/My Drive/Abar_ dataset/covid/covid_72.jpg\n",
            "/content/drive/My Drive/Abar_ dataset/covid/covid_73.jpg\n",
            "/content/drive/My Drive/Abar_ dataset/covid/covid_74.jpg\n",
            "/content/drive/My Drive/Abar_ dataset/covid/covid_75.jpg\n",
            "/content/drive/My Drive/Abar_ dataset/covid/covid_76.jpg\n",
            "/content/drive/My Drive/Abar_ dataset/covid/covid_77.jpg\n",
            "/content/drive/My Drive/Abar_ dataset/covid/covid_78.jpg\n",
            "/content/drive/My Drive/Abar_ dataset/covid/covid_79.jpg\n",
            "/content/drive/My Drive/Abar_ dataset/covid/covid_80.jpg\n",
            "/content/drive/My Drive/Abar_ dataset/covid/covid_81.jpg\n",
            "/content/drive/My Drive/Abar_ dataset/covid/covid_82.jpg\n",
            "/content/drive/My Drive/Abar_ dataset/covid/covid_83.jpg\n",
            "/content/drive/My Drive/Abar_ dataset/covid/covid_84.jpg\n",
            "/content/drive/My Drive/Abar_ dataset/covid/covid_85.jpg\n",
            "/content/drive/My Drive/Abar_ dataset/covid/covid_86.jpg\n",
            "/content/drive/My Drive/Abar_ dataset/covid/covid_87.jpg\n",
            "/content/drive/My Drive/Abar_ dataset/covid/covid_88.jpg\n",
            "/content/drive/My Drive/Abar_ dataset/covid/covid_89.jpg\n",
            "/content/drive/My Drive/Abar_ dataset/covid/covid_90.jpg\n",
            "/content/drive/My Drive/Abar_ dataset/covid/covid_91.jpg\n",
            "/content/drive/My Drive/Abar_ dataset/covid/covid_92.jpg\n",
            "/content/drive/My Drive/Abar_ dataset/covid/covid_93.jpg\n",
            "/content/drive/My Drive/Abar_ dataset/covid/covid_94.jpg\n",
            "/content/drive/My Drive/Abar_ dataset/covid/covid_95.jpg\n",
            "/content/drive/My Drive/Abar_ dataset/covid/covid_96.jpg\n",
            "/content/drive/My Drive/Abar_ dataset/covid/covid_97.jpg\n",
            "/content/drive/My Drive/Abar_ dataset/covid/covid_98.jpg\n",
            "/content/drive/My Drive/Abar_ dataset/covid/covid_99.jpg\n",
            "/content/drive/My Drive/Abar_ dataset/covid/covid_100.jpg\n",
            "/content/drive/My Drive/Abar_ dataset/covid/covid_101.jpg\n",
            "/content/drive/My Drive/Abar_ dataset/covid/covid_102.jpg\n",
            "/content/drive/My Drive/Abar_ dataset/covid/covid_103.jpg\n",
            "/content/drive/My Drive/Abar_ dataset/covid/covid_104.jpg\n",
            "/content/drive/My Drive/Abar_ dataset/covid/covid_105.jpg\n",
            "/content/drive/My Drive/Abar_ dataset/covid/covid_106.jpg\n",
            "/content/drive/My Drive/Abar_ dataset/covid/covid_107.jpg\n",
            "/content/drive/My Drive/Abar_ dataset/covid/covid_108.jpg\n",
            "/content/drive/My Drive/Abar_ dataset/covid/covid_109.jpg\n",
            "/content/drive/My Drive/Abar_ dataset/covid/covid_110.jpg\n",
            "/content/drive/My Drive/Abar_ dataset/covid/covid_111.jpg\n",
            "/content/drive/My Drive/Abar_ dataset/covid/covid_112.jpg\n",
            "/content/drive/My Drive/Abar_ dataset/covid/covid_113.jpg\n",
            "/content/drive/My Drive/Abar_ dataset/covid/covid_114.jpg\n",
            "/content/drive/My Drive/Abar_ dataset/covid/covid_115.jpg\n",
            "/content/drive/My Drive/Abar_ dataset/covid/covid_116.jpg\n",
            "/content/drive/My Drive/Abar_ dataset/covid/covid_117.jpg\n",
            "/content/drive/My Drive/Abar_ dataset/covid/covid_118.jpg\n",
            "/content/drive/My Drive/Abar_ dataset/covid/covid_119.jpg\n",
            "/content/drive/My Drive/Abar_ dataset/covid/covid_120.jpg\n",
            "/content/drive/My Drive/Abar_ dataset/covid/covid_121.jpg\n",
            "/content/drive/My Drive/Abar_ dataset/covid/covid_122.jpg\n",
            "/content/drive/My Drive/Abar_ dataset/covid/covid_123.jpg\n",
            "/content/drive/My Drive/Abar_ dataset/covid/covid_124.jpg\n",
            "/content/drive/My Drive/Abar_ dataset/covid/covid_125.jpg\n",
            "/content/drive/My Drive/Abar_ dataset/covid/covid_126.jpg\n",
            "/content/drive/My Drive/Abar_ dataset/covid/covid_127.jpg\n",
            "/content/drive/My Drive/Abar_ dataset/covid/covid_128.jpg\n",
            "/content/drive/My Drive/Abar_ dataset/covid/covid_129.jpg\n",
            "/content/drive/My Drive/Abar_ dataset/covid/covid_130.jpg\n",
            "/content/drive/My Drive/Abar_ dataset/covid/covid_131.jpg\n",
            "/content/drive/My Drive/Abar_ dataset/covid/covid_132.jpg\n",
            "/content/drive/My Drive/Abar_ dataset/covid/covid_133.jpg\n",
            "/content/drive/My Drive/Abar_ dataset/covid/covid_134.jpg\n",
            "/content/drive/My Drive/Abar_ dataset/covid/covid_135.jpg\n",
            "/content/drive/My Drive/Abar_ dataset/covid/covid_136.jpg\n",
            "/content/drive/My Drive/Abar_ dataset/covid/covid_137.jpg\n",
            "/content/drive/My Drive/Abar_ dataset/covid/covid_138.jpg\n",
            "/content/drive/My Drive/Abar_ dataset/covid/covid_139.jpg\n",
            "/content/drive/My Drive/Abar_ dataset/covid/covid_140.jpg\n",
            "/content/drive/My Drive/Abar_ dataset/covid/covid_141.jpg\n",
            "/content/drive/My Drive/Abar_ dataset/covid/covid_142.jpg\n",
            "/content/drive/My Drive/Abar_ dataset/covid/covid_143.jpg\n",
            "/content/drive/My Drive/Abar_ dataset/covid/covid_144.jpg\n",
            "/content/drive/My Drive/Abar_ dataset/covid/covid_145.jpg\n",
            "/content/drive/My Drive/Abar_ dataset/covid/covid_146.jpg\n",
            "/content/drive/My Drive/Abar_ dataset/covid/covid_147.jpg\n",
            "/content/drive/My Drive/Abar_ dataset/covid/covid_148.jpg\n",
            "/content/drive/My Drive/Abar_ dataset/covid/covid_149.jpg\n",
            "/content/drive/My Drive/Abar_ dataset/covid/covid_150.jpg\n",
            "/content/drive/My Drive/Abar_ dataset/covid/covid_151.jpg\n",
            "/content/drive/My Drive/Abar_ dataset/covid/covid_152.jpg\n",
            "/content/drive/My Drive/Abar_ dataset/covid/covid_153.jpg\n",
            "/content/drive/My Drive/Abar_ dataset/covid/covid_154.jpg\n",
            "/content/drive/My Drive/Abar_ dataset/covid/covid_155.jpg\n",
            "/content/drive/My Drive/Abar_ dataset/covid/covid_156.jpg\n",
            "/content/drive/My Drive/Abar_ dataset/covid/covid_157.jpg\n",
            "/content/drive/My Drive/Abar_ dataset/covid/covid_158.jpg\n",
            "/content/drive/My Drive/Abar_ dataset/covid/covid_159.jpg\n",
            "/content/drive/My Drive/Abar_ dataset/covid/covid_160.jpg\n",
            "/content/drive/My Drive/Abar_ dataset/covid/covid_161.jpg\n",
            "/content/drive/My Drive/Abar_ dataset/covid/covid_162.jpg\n",
            "/content/drive/My Drive/Abar_ dataset/covid/covid_163.jpg\n",
            "/content/drive/My Drive/Abar_ dataset/covid/covid_164.jpg\n",
            "/content/drive/My Drive/Abar_ dataset/covid/covid_165.jpg\n",
            "/content/drive/My Drive/Abar_ dataset/covid/covid_166.jpg\n",
            "/content/drive/My Drive/Abar_ dataset/covid/covid_167.jpg\n",
            "/content/drive/My Drive/Abar_ dataset/covid/covid_168.jpg\n",
            "/content/drive/My Drive/Abar_ dataset/covid/covid_169.jpg\n",
            "/content/drive/My Drive/Abar_ dataset/covid/covid_170.jpg\n",
            "/content/drive/My Drive/Abar_ dataset/covid/covid_171.jpg\n",
            "/content/drive/My Drive/Abar_ dataset/covid/covid_172.jpg\n",
            "/content/drive/My Drive/Abar_ dataset/covid/covid_173.jpg\n",
            "/content/drive/My Drive/Abar_ dataset/covid/covid_174.jpg\n",
            "/content/drive/My Drive/Abar_ dataset/covid/covid_175.jpg\n",
            "/content/drive/My Drive/Abar_ dataset/covid/covid_176.jpg\n",
            "/content/drive/My Drive/Abar_ dataset/covid/covid_177.jpg\n",
            "/content/drive/My Drive/Abar_ dataset/covid/covid_178.jpg\n",
            "/content/drive/My Drive/Abar_ dataset/covid/covid_179.jpg\n",
            "/content/drive/My Drive/Abar_ dataset/covid/covid_180.jpg\n",
            "/content/drive/My Drive/Abar_ dataset/covid/covid_181.jpg\n",
            "/content/drive/My Drive/Abar_ dataset/covid/covid_182.jpg\n",
            "/content/drive/My Drive/Abar_ dataset/covid/covid_183.jpg\n",
            "/content/drive/My Drive/Abar_ dataset/covid/covid_184.jpg\n",
            "/content/drive/My Drive/Abar_ dataset/covid/covid_185.jpg\n",
            "/content/drive/My Drive/Abar_ dataset/covid/covid_186.jpg\n",
            "/content/drive/My Drive/Abar_ dataset/covid/covid_187.jpg\n",
            "/content/drive/My Drive/Abar_ dataset/covid/covid_188.jpg\n",
            "/content/drive/My Drive/Abar_ dataset/covid/covid_189.jpg\n",
            "/content/drive/My Drive/Abar_ dataset/covid/covid_190.jpg\n",
            "/content/drive/My Drive/Abar_ dataset/covid/covid_191.jpg\n",
            "/content/drive/My Drive/Abar_ dataset/covid/covid_192.jpg\n",
            "/content/drive/My Drive/Abar_ dataset/covid/covid_193.jpg\n",
            "/content/drive/My Drive/Abar_ dataset/covid/covid_194.jpg\n",
            "/content/drive/My Drive/Abar_ dataset/covid/covid_195.jpg\n",
            "/content/drive/My Drive/Abar_ dataset/covid/covid_196.jpg\n",
            "/content/drive/My Drive/Abar_ dataset/covid/covid_197.jpg\n",
            "/content/drive/My Drive/Abar_ dataset/covid/covid_198.jpg\n",
            "/content/drive/My Drive/Abar_ dataset/covid/covid_199.jpg\n",
            "/content/drive/My Drive/Abar_ dataset/covid/covid_200.jpg\n",
            "/content/drive/My Drive/Abar_ dataset/covid/covid_201.jpg\n",
            "/content/drive/My Drive/Abar_ dataset/covid/covid_202.jpg\n",
            "/content/drive/My Drive/Abar_ dataset/covid/covid_203.jpg\n",
            "/content/drive/My Drive/Abar_ dataset/covid/covid_204.jpg\n",
            "/content/drive/My Drive/Abar_ dataset/covid/covid_205.jpg\n",
            "/content/drive/My Drive/Abar_ dataset/covid/covid_206.jpg\n",
            "/content/drive/My Drive/Abar_ dataset/covid/covid_207.jpg\n",
            "/content/drive/My Drive/Abar_ dataset/covid/covid_208.jpg\n",
            "/content/drive/My Drive/Abar_ dataset/covid/covid_209.jpg\n",
            "/content/drive/My Drive/Abar_ dataset/covid/covid_210.jpg\n",
            "/content/drive/My Drive/Abar_ dataset/covid/covid_211.jpg\n",
            "/content/drive/My Drive/Abar_ dataset/covid/covid_212.jpg\n",
            "/content/drive/My Drive/Abar_ dataset/covid/covid_213.jpg\n",
            "/content/drive/My Drive/Abar_ dataset/covid/covid_214.jpg\n",
            "/content/drive/My Drive/Abar_ dataset/covid/covid_215.jpg\n",
            "/content/drive/My Drive/Abar_ dataset/covid/covid_216.jpg\n",
            "/content/drive/My Drive/Abar_ dataset/covid/covid_217.jpg\n",
            "/content/drive/My Drive/Abar_ dataset/covid/covid_218.jpg\n",
            "/content/drive/My Drive/Abar_ dataset/covid/covid_219.jpg\n",
            "/content/drive/My Drive/Abar_ dataset/covid/covid_220.jpg\n",
            "/content/drive/My Drive/Abar_ dataset/covid/covid_221.jpg\n",
            "/content/drive/My Drive/Abar_ dataset/covid/covid_222.jpg\n",
            "/content/drive/My Drive/Abar_ dataset/covid/covid_223.jpg\n",
            "/content/drive/My Drive/Abar_ dataset/covid/covid_224.jpg\n",
            "/content/drive/My Drive/Abar_ dataset/covid/covid_225.jpg\n",
            "/content/drive/My Drive/Abar_ dataset/covid/covid_226.jpg\n",
            "/content/drive/My Drive/Abar_ dataset/covid/covid_227.jpg\n",
            "/content/drive/My Drive/Abar_ dataset/covid/covid_228.jpg\n",
            "/content/drive/My Drive/Abar_ dataset/covid/covid_229.jpg\n",
            "/content/drive/My Drive/Abar_ dataset/covid/covid_230.jpg\n",
            "/content/drive/My Drive/Abar_ dataset/covid/covid_231.jpg\n",
            "/content/drive/My Drive/Abar_ dataset/covid/covid_232.jpg\n",
            "/content/drive/My Drive/Abar_ dataset/covid/covid_233.jpg\n",
            "/content/drive/My Drive/Abar_ dataset/covid/covid_234.jpg\n",
            "/content/drive/My Drive/Abar_ dataset/covid/covid_235.jpg\n",
            "/content/drive/My Drive/Abar_ dataset/covid/covid_236.jpg\n"
          ],
          "name": "stdout"
        }
      ]
    },
    {
      "cell_type": "code",
      "metadata": {
        "id": "XXEzxhaP7jE3",
        "colab": {
          "base_uri": "https://localhost:8080/",
          "height": 35
        },
        "outputId": "f6079d61-5b8f-4ab2-fb2d-57c05af1e508"
      },
      "source": [
        "print(len(CovidCoeff))"
      ],
      "execution_count": null,
      "outputs": [
        {
          "output_type": "stream",
          "text": [
            "236\n"
          ],
          "name": "stdout"
        }
      ]
    },
    {
      "cell_type": "code",
      "metadata": {
        "id": "uv3HlrvC_VFX"
      },
      "source": [
        "CovidCoeff = np.reshape(CovidCoeff ,(236,50176))"
      ],
      "execution_count": null,
      "outputs": []
    },
    {
      "cell_type": "code",
      "metadata": {
        "id": "gl9xPs5FEFCb",
        "colab": {
          "base_uri": "https://localhost:8080/",
          "height": 1000
        },
        "outputId": "1cdaf6fb-b191-47ac-fea2-2bcbaec8f740"
      },
      "source": [
        "PneuCoeff =[]\n",
        "imagesall = glob.glob(\"/content/drive/Shared drives/COVID_19/PrasunAll_Materials/testPneuPre/*\")\n",
        "for k in range(len(imagesall)):\n",
        "\n",
        "    image = cv2.imread(\"/content/drive/Shared drives/COVID_19/PrasunAll_Materials/testPneuPre/\"+\"pneumonia_{}\".format(k+1))\n",
        "    print(\"/content/drive/Shared drives/COVID_19/PrasunAll_Materials/testPneuPre/\"+\"pneumonia_{}\".format(k+1))\n",
        "    image = cv2.cvtColor(image, cv2.COLOR_BGR2GRAY)\n",
        "\n",
        "    coeffs2 = pywt.dwt2(image, 'haar')\n",
        "    LL, (LH, HL, HH) = coeffs2\n",
        "    LLflatten = LL.flatten()\n",
        "    LHflatten = LH.flatten()\n",
        "    HLflatten = HL.flatten()\n",
        "    HHflatten = HH.flatten()\n",
        "    total  = np.append(LLflatten,LHflatten)\n",
        "    total1 = np.append(total ,HLflatten )\n",
        "    total2 = np.append(total1,HHflatten)  \n",
        "      \n",
        "    PneuCoeff.append(total2)"
      ],
      "execution_count": null,
      "outputs": [
        {
          "output_type": "stream",
          "text": [
            "/content/drive/Shared drives/COVID_19/PrasunAll_Materials/testPneuPre/pneumonia_1\n",
            "/content/drive/Shared drives/COVID_19/PrasunAll_Materials/testPneuPre/pneumonia_2\n",
            "/content/drive/Shared drives/COVID_19/PrasunAll_Materials/testPneuPre/pneumonia_3\n",
            "/content/drive/Shared drives/COVID_19/PrasunAll_Materials/testPneuPre/pneumonia_4\n",
            "/content/drive/Shared drives/COVID_19/PrasunAll_Materials/testPneuPre/pneumonia_5\n",
            "/content/drive/Shared drives/COVID_19/PrasunAll_Materials/testPneuPre/pneumonia_6\n",
            "/content/drive/Shared drives/COVID_19/PrasunAll_Materials/testPneuPre/pneumonia_7\n",
            "/content/drive/Shared drives/COVID_19/PrasunAll_Materials/testPneuPre/pneumonia_8\n",
            "/content/drive/Shared drives/COVID_19/PrasunAll_Materials/testPneuPre/pneumonia_9\n",
            "/content/drive/Shared drives/COVID_19/PrasunAll_Materials/testPneuPre/pneumonia_10\n",
            "/content/drive/Shared drives/COVID_19/PrasunAll_Materials/testPneuPre/pneumonia_11\n",
            "/content/drive/Shared drives/COVID_19/PrasunAll_Materials/testPneuPre/pneumonia_12\n",
            "/content/drive/Shared drives/COVID_19/PrasunAll_Materials/testPneuPre/pneumonia_13\n",
            "/content/drive/Shared drives/COVID_19/PrasunAll_Materials/testPneuPre/pneumonia_14\n",
            "/content/drive/Shared drives/COVID_19/PrasunAll_Materials/testPneuPre/pneumonia_15\n",
            "/content/drive/Shared drives/COVID_19/PrasunAll_Materials/testPneuPre/pneumonia_16\n",
            "/content/drive/Shared drives/COVID_19/PrasunAll_Materials/testPneuPre/pneumonia_17\n",
            "/content/drive/Shared drives/COVID_19/PrasunAll_Materials/testPneuPre/pneumonia_18\n",
            "/content/drive/Shared drives/COVID_19/PrasunAll_Materials/testPneuPre/pneumonia_19\n",
            "/content/drive/Shared drives/COVID_19/PrasunAll_Materials/testPneuPre/pneumonia_20\n",
            "/content/drive/Shared drives/COVID_19/PrasunAll_Materials/testPneuPre/pneumonia_21\n",
            "/content/drive/Shared drives/COVID_19/PrasunAll_Materials/testPneuPre/pneumonia_22\n",
            "/content/drive/Shared drives/COVID_19/PrasunAll_Materials/testPneuPre/pneumonia_23\n",
            "/content/drive/Shared drives/COVID_19/PrasunAll_Materials/testPneuPre/pneumonia_24\n",
            "/content/drive/Shared drives/COVID_19/PrasunAll_Materials/testPneuPre/pneumonia_25\n",
            "/content/drive/Shared drives/COVID_19/PrasunAll_Materials/testPneuPre/pneumonia_26\n",
            "/content/drive/Shared drives/COVID_19/PrasunAll_Materials/testPneuPre/pneumonia_27\n",
            "/content/drive/Shared drives/COVID_19/PrasunAll_Materials/testPneuPre/pneumonia_28\n",
            "/content/drive/Shared drives/COVID_19/PrasunAll_Materials/testPneuPre/pneumonia_29\n",
            "/content/drive/Shared drives/COVID_19/PrasunAll_Materials/testPneuPre/pneumonia_30\n",
            "/content/drive/Shared drives/COVID_19/PrasunAll_Materials/testPneuPre/pneumonia_31\n",
            "/content/drive/Shared drives/COVID_19/PrasunAll_Materials/testPneuPre/pneumonia_32\n",
            "/content/drive/Shared drives/COVID_19/PrasunAll_Materials/testPneuPre/pneumonia_33\n",
            "/content/drive/Shared drives/COVID_19/PrasunAll_Materials/testPneuPre/pneumonia_34\n",
            "/content/drive/Shared drives/COVID_19/PrasunAll_Materials/testPneuPre/pneumonia_35\n",
            "/content/drive/Shared drives/COVID_19/PrasunAll_Materials/testPneuPre/pneumonia_36\n",
            "/content/drive/Shared drives/COVID_19/PrasunAll_Materials/testPneuPre/pneumonia_37\n",
            "/content/drive/Shared drives/COVID_19/PrasunAll_Materials/testPneuPre/pneumonia_38\n",
            "/content/drive/Shared drives/COVID_19/PrasunAll_Materials/testPneuPre/pneumonia_39\n",
            "/content/drive/Shared drives/COVID_19/PrasunAll_Materials/testPneuPre/pneumonia_40\n",
            "/content/drive/Shared drives/COVID_19/PrasunAll_Materials/testPneuPre/pneumonia_41\n",
            "/content/drive/Shared drives/COVID_19/PrasunAll_Materials/testPneuPre/pneumonia_42\n",
            "/content/drive/Shared drives/COVID_19/PrasunAll_Materials/testPneuPre/pneumonia_43\n",
            "/content/drive/Shared drives/COVID_19/PrasunAll_Materials/testPneuPre/pneumonia_44\n",
            "/content/drive/Shared drives/COVID_19/PrasunAll_Materials/testPneuPre/pneumonia_45\n",
            "/content/drive/Shared drives/COVID_19/PrasunAll_Materials/testPneuPre/pneumonia_46\n",
            "/content/drive/Shared drives/COVID_19/PrasunAll_Materials/testPneuPre/pneumonia_47\n",
            "/content/drive/Shared drives/COVID_19/PrasunAll_Materials/testPneuPre/pneumonia_48\n",
            "/content/drive/Shared drives/COVID_19/PrasunAll_Materials/testPneuPre/pneumonia_49\n",
            "/content/drive/Shared drives/COVID_19/PrasunAll_Materials/testPneuPre/pneumonia_50\n",
            "/content/drive/Shared drives/COVID_19/PrasunAll_Materials/testPneuPre/pneumonia_51\n",
            "/content/drive/Shared drives/COVID_19/PrasunAll_Materials/testPneuPre/pneumonia_52\n",
            "/content/drive/Shared drives/COVID_19/PrasunAll_Materials/testPneuPre/pneumonia_53\n",
            "/content/drive/Shared drives/COVID_19/PrasunAll_Materials/testPneuPre/pneumonia_54\n",
            "/content/drive/Shared drives/COVID_19/PrasunAll_Materials/testPneuPre/pneumonia_55\n",
            "/content/drive/Shared drives/COVID_19/PrasunAll_Materials/testPneuPre/pneumonia_56\n",
            "/content/drive/Shared drives/COVID_19/PrasunAll_Materials/testPneuPre/pneumonia_57\n",
            "/content/drive/Shared drives/COVID_19/PrasunAll_Materials/testPneuPre/pneumonia_58\n",
            "/content/drive/Shared drives/COVID_19/PrasunAll_Materials/testPneuPre/pneumonia_59\n",
            "/content/drive/Shared drives/COVID_19/PrasunAll_Materials/testPneuPre/pneumonia_60\n",
            "/content/drive/Shared drives/COVID_19/PrasunAll_Materials/testPneuPre/pneumonia_61\n",
            "/content/drive/Shared drives/COVID_19/PrasunAll_Materials/testPneuPre/pneumonia_62\n",
            "/content/drive/Shared drives/COVID_19/PrasunAll_Materials/testPneuPre/pneumonia_63\n",
            "/content/drive/Shared drives/COVID_19/PrasunAll_Materials/testPneuPre/pneumonia_64\n",
            "/content/drive/Shared drives/COVID_19/PrasunAll_Materials/testPneuPre/pneumonia_65\n",
            "/content/drive/Shared drives/COVID_19/PrasunAll_Materials/testPneuPre/pneumonia_66\n",
            "/content/drive/Shared drives/COVID_19/PrasunAll_Materials/testPneuPre/pneumonia_67\n",
            "/content/drive/Shared drives/COVID_19/PrasunAll_Materials/testPneuPre/pneumonia_68\n",
            "/content/drive/Shared drives/COVID_19/PrasunAll_Materials/testPneuPre/pneumonia_69\n",
            "/content/drive/Shared drives/COVID_19/PrasunAll_Materials/testPneuPre/pneumonia_70\n",
            "/content/drive/Shared drives/COVID_19/PrasunAll_Materials/testPneuPre/pneumonia_71\n",
            "/content/drive/Shared drives/COVID_19/PrasunAll_Materials/testPneuPre/pneumonia_72\n",
            "/content/drive/Shared drives/COVID_19/PrasunAll_Materials/testPneuPre/pneumonia_73\n",
            "/content/drive/Shared drives/COVID_19/PrasunAll_Materials/testPneuPre/pneumonia_74\n",
            "/content/drive/Shared drives/COVID_19/PrasunAll_Materials/testPneuPre/pneumonia_75\n",
            "/content/drive/Shared drives/COVID_19/PrasunAll_Materials/testPneuPre/pneumonia_76\n",
            "/content/drive/Shared drives/COVID_19/PrasunAll_Materials/testPneuPre/pneumonia_77\n",
            "/content/drive/Shared drives/COVID_19/PrasunAll_Materials/testPneuPre/pneumonia_78\n",
            "/content/drive/Shared drives/COVID_19/PrasunAll_Materials/testPneuPre/pneumonia_79\n",
            "/content/drive/Shared drives/COVID_19/PrasunAll_Materials/testPneuPre/pneumonia_80\n",
            "/content/drive/Shared drives/COVID_19/PrasunAll_Materials/testPneuPre/pneumonia_81\n",
            "/content/drive/Shared drives/COVID_19/PrasunAll_Materials/testPneuPre/pneumonia_82\n",
            "/content/drive/Shared drives/COVID_19/PrasunAll_Materials/testPneuPre/pneumonia_83\n",
            "/content/drive/Shared drives/COVID_19/PrasunAll_Materials/testPneuPre/pneumonia_84\n",
            "/content/drive/Shared drives/COVID_19/PrasunAll_Materials/testPneuPre/pneumonia_85\n",
            "/content/drive/Shared drives/COVID_19/PrasunAll_Materials/testPneuPre/pneumonia_86\n",
            "/content/drive/Shared drives/COVID_19/PrasunAll_Materials/testPneuPre/pneumonia_87\n",
            "/content/drive/Shared drives/COVID_19/PrasunAll_Materials/testPneuPre/pneumonia_88\n",
            "/content/drive/Shared drives/COVID_19/PrasunAll_Materials/testPneuPre/pneumonia_89\n",
            "/content/drive/Shared drives/COVID_19/PrasunAll_Materials/testPneuPre/pneumonia_90\n",
            "/content/drive/Shared drives/COVID_19/PrasunAll_Materials/testPneuPre/pneumonia_91\n",
            "/content/drive/Shared drives/COVID_19/PrasunAll_Materials/testPneuPre/pneumonia_92\n",
            "/content/drive/Shared drives/COVID_19/PrasunAll_Materials/testPneuPre/pneumonia_93\n",
            "/content/drive/Shared drives/COVID_19/PrasunAll_Materials/testPneuPre/pneumonia_94\n",
            "/content/drive/Shared drives/COVID_19/PrasunAll_Materials/testPneuPre/pneumonia_95\n",
            "/content/drive/Shared drives/COVID_19/PrasunAll_Materials/testPneuPre/pneumonia_96\n",
            "/content/drive/Shared drives/COVID_19/PrasunAll_Materials/testPneuPre/pneumonia_97\n",
            "/content/drive/Shared drives/COVID_19/PrasunAll_Materials/testPneuPre/pneumonia_98\n",
            "/content/drive/Shared drives/COVID_19/PrasunAll_Materials/testPneuPre/pneumonia_99\n",
            "/content/drive/Shared drives/COVID_19/PrasunAll_Materials/testPneuPre/pneumonia_100\n",
            "/content/drive/Shared drives/COVID_19/PrasunAll_Materials/testPneuPre/pneumonia_101\n",
            "/content/drive/Shared drives/COVID_19/PrasunAll_Materials/testPneuPre/pneumonia_102\n",
            "/content/drive/Shared drives/COVID_19/PrasunAll_Materials/testPneuPre/pneumonia_103\n",
            "/content/drive/Shared drives/COVID_19/PrasunAll_Materials/testPneuPre/pneumonia_104\n",
            "/content/drive/Shared drives/COVID_19/PrasunAll_Materials/testPneuPre/pneumonia_105\n",
            "/content/drive/Shared drives/COVID_19/PrasunAll_Materials/testPneuPre/pneumonia_106\n",
            "/content/drive/Shared drives/COVID_19/PrasunAll_Materials/testPneuPre/pneumonia_107\n",
            "/content/drive/Shared drives/COVID_19/PrasunAll_Materials/testPneuPre/pneumonia_108\n",
            "/content/drive/Shared drives/COVID_19/PrasunAll_Materials/testPneuPre/pneumonia_109\n",
            "/content/drive/Shared drives/COVID_19/PrasunAll_Materials/testPneuPre/pneumonia_110\n",
            "/content/drive/Shared drives/COVID_19/PrasunAll_Materials/testPneuPre/pneumonia_111\n",
            "/content/drive/Shared drives/COVID_19/PrasunAll_Materials/testPneuPre/pneumonia_112\n",
            "/content/drive/Shared drives/COVID_19/PrasunAll_Materials/testPneuPre/pneumonia_113\n",
            "/content/drive/Shared drives/COVID_19/PrasunAll_Materials/testPneuPre/pneumonia_114\n",
            "/content/drive/Shared drives/COVID_19/PrasunAll_Materials/testPneuPre/pneumonia_115\n",
            "/content/drive/Shared drives/COVID_19/PrasunAll_Materials/testPneuPre/pneumonia_116\n",
            "/content/drive/Shared drives/COVID_19/PrasunAll_Materials/testPneuPre/pneumonia_117\n",
            "/content/drive/Shared drives/COVID_19/PrasunAll_Materials/testPneuPre/pneumonia_118\n",
            "/content/drive/Shared drives/COVID_19/PrasunAll_Materials/testPneuPre/pneumonia_119\n",
            "/content/drive/Shared drives/COVID_19/PrasunAll_Materials/testPneuPre/pneumonia_120\n",
            "/content/drive/Shared drives/COVID_19/PrasunAll_Materials/testPneuPre/pneumonia_121\n",
            "/content/drive/Shared drives/COVID_19/PrasunAll_Materials/testPneuPre/pneumonia_122\n",
            "/content/drive/Shared drives/COVID_19/PrasunAll_Materials/testPneuPre/pneumonia_123\n",
            "/content/drive/Shared drives/COVID_19/PrasunAll_Materials/testPneuPre/pneumonia_124\n",
            "/content/drive/Shared drives/COVID_19/PrasunAll_Materials/testPneuPre/pneumonia_125\n",
            "/content/drive/Shared drives/COVID_19/PrasunAll_Materials/testPneuPre/pneumonia_126\n",
            "/content/drive/Shared drives/COVID_19/PrasunAll_Materials/testPneuPre/pneumonia_127\n",
            "/content/drive/Shared drives/COVID_19/PrasunAll_Materials/testPneuPre/pneumonia_128\n",
            "/content/drive/Shared drives/COVID_19/PrasunAll_Materials/testPneuPre/pneumonia_129\n",
            "/content/drive/Shared drives/COVID_19/PrasunAll_Materials/testPneuPre/pneumonia_130\n",
            "/content/drive/Shared drives/COVID_19/PrasunAll_Materials/testPneuPre/pneumonia_131\n",
            "/content/drive/Shared drives/COVID_19/PrasunAll_Materials/testPneuPre/pneumonia_132\n",
            "/content/drive/Shared drives/COVID_19/PrasunAll_Materials/testPneuPre/pneumonia_133\n",
            "/content/drive/Shared drives/COVID_19/PrasunAll_Materials/testPneuPre/pneumonia_134\n",
            "/content/drive/Shared drives/COVID_19/PrasunAll_Materials/testPneuPre/pneumonia_135\n",
            "/content/drive/Shared drives/COVID_19/PrasunAll_Materials/testPneuPre/pneumonia_136\n",
            "/content/drive/Shared drives/COVID_19/PrasunAll_Materials/testPneuPre/pneumonia_137\n",
            "/content/drive/Shared drives/COVID_19/PrasunAll_Materials/testPneuPre/pneumonia_138\n",
            "/content/drive/Shared drives/COVID_19/PrasunAll_Materials/testPneuPre/pneumonia_139\n",
            "/content/drive/Shared drives/COVID_19/PrasunAll_Materials/testPneuPre/pneumonia_140\n",
            "/content/drive/Shared drives/COVID_19/PrasunAll_Materials/testPneuPre/pneumonia_141\n",
            "/content/drive/Shared drives/COVID_19/PrasunAll_Materials/testPneuPre/pneumonia_142\n",
            "/content/drive/Shared drives/COVID_19/PrasunAll_Materials/testPneuPre/pneumonia_143\n",
            "/content/drive/Shared drives/COVID_19/PrasunAll_Materials/testPneuPre/pneumonia_144\n",
            "/content/drive/Shared drives/COVID_19/PrasunAll_Materials/testPneuPre/pneumonia_145\n",
            "/content/drive/Shared drives/COVID_19/PrasunAll_Materials/testPneuPre/pneumonia_146\n",
            "/content/drive/Shared drives/COVID_19/PrasunAll_Materials/testPneuPre/pneumonia_147\n",
            "/content/drive/Shared drives/COVID_19/PrasunAll_Materials/testPneuPre/pneumonia_148\n",
            "/content/drive/Shared drives/COVID_19/PrasunAll_Materials/testPneuPre/pneumonia_149\n",
            "/content/drive/Shared drives/COVID_19/PrasunAll_Materials/testPneuPre/pneumonia_150\n",
            "/content/drive/Shared drives/COVID_19/PrasunAll_Materials/testPneuPre/pneumonia_151\n",
            "/content/drive/Shared drives/COVID_19/PrasunAll_Materials/testPneuPre/pneumonia_152\n",
            "/content/drive/Shared drives/COVID_19/PrasunAll_Materials/testPneuPre/pneumonia_153\n",
            "/content/drive/Shared drives/COVID_19/PrasunAll_Materials/testPneuPre/pneumonia_154\n",
            "/content/drive/Shared drives/COVID_19/PrasunAll_Materials/testPneuPre/pneumonia_155\n",
            "/content/drive/Shared drives/COVID_19/PrasunAll_Materials/testPneuPre/pneumonia_156\n",
            "/content/drive/Shared drives/COVID_19/PrasunAll_Materials/testPneuPre/pneumonia_157\n",
            "/content/drive/Shared drives/COVID_19/PrasunAll_Materials/testPneuPre/pneumonia_158\n",
            "/content/drive/Shared drives/COVID_19/PrasunAll_Materials/testPneuPre/pneumonia_159\n",
            "/content/drive/Shared drives/COVID_19/PrasunAll_Materials/testPneuPre/pneumonia_160\n",
            "/content/drive/Shared drives/COVID_19/PrasunAll_Materials/testPneuPre/pneumonia_161\n",
            "/content/drive/Shared drives/COVID_19/PrasunAll_Materials/testPneuPre/pneumonia_162\n",
            "/content/drive/Shared drives/COVID_19/PrasunAll_Materials/testPneuPre/pneumonia_163\n",
            "/content/drive/Shared drives/COVID_19/PrasunAll_Materials/testPneuPre/pneumonia_164\n",
            "/content/drive/Shared drives/COVID_19/PrasunAll_Materials/testPneuPre/pneumonia_165\n",
            "/content/drive/Shared drives/COVID_19/PrasunAll_Materials/testPneuPre/pneumonia_166\n",
            "/content/drive/Shared drives/COVID_19/PrasunAll_Materials/testPneuPre/pneumonia_167\n",
            "/content/drive/Shared drives/COVID_19/PrasunAll_Materials/testPneuPre/pneumonia_168\n",
            "/content/drive/Shared drives/COVID_19/PrasunAll_Materials/testPneuPre/pneumonia_169\n",
            "/content/drive/Shared drives/COVID_19/PrasunAll_Materials/testPneuPre/pneumonia_170\n",
            "/content/drive/Shared drives/COVID_19/PrasunAll_Materials/testPneuPre/pneumonia_171\n",
            "/content/drive/Shared drives/COVID_19/PrasunAll_Materials/testPneuPre/pneumonia_172\n",
            "/content/drive/Shared drives/COVID_19/PrasunAll_Materials/testPneuPre/pneumonia_173\n",
            "/content/drive/Shared drives/COVID_19/PrasunAll_Materials/testPneuPre/pneumonia_174\n",
            "/content/drive/Shared drives/COVID_19/PrasunAll_Materials/testPneuPre/pneumonia_175\n",
            "/content/drive/Shared drives/COVID_19/PrasunAll_Materials/testPneuPre/pneumonia_176\n",
            "/content/drive/Shared drives/COVID_19/PrasunAll_Materials/testPneuPre/pneumonia_177\n",
            "/content/drive/Shared drives/COVID_19/PrasunAll_Materials/testPneuPre/pneumonia_178\n",
            "/content/drive/Shared drives/COVID_19/PrasunAll_Materials/testPneuPre/pneumonia_179\n",
            "/content/drive/Shared drives/COVID_19/PrasunAll_Materials/testPneuPre/pneumonia_180\n",
            "/content/drive/Shared drives/COVID_19/PrasunAll_Materials/testPneuPre/pneumonia_181\n",
            "/content/drive/Shared drives/COVID_19/PrasunAll_Materials/testPneuPre/pneumonia_182\n",
            "/content/drive/Shared drives/COVID_19/PrasunAll_Materials/testPneuPre/pneumonia_183\n",
            "/content/drive/Shared drives/COVID_19/PrasunAll_Materials/testPneuPre/pneumonia_184\n",
            "/content/drive/Shared drives/COVID_19/PrasunAll_Materials/testPneuPre/pneumonia_185\n",
            "/content/drive/Shared drives/COVID_19/PrasunAll_Materials/testPneuPre/pneumonia_186\n",
            "/content/drive/Shared drives/COVID_19/PrasunAll_Materials/testPneuPre/pneumonia_187\n",
            "/content/drive/Shared drives/COVID_19/PrasunAll_Materials/testPneuPre/pneumonia_188\n",
            "/content/drive/Shared drives/COVID_19/PrasunAll_Materials/testPneuPre/pneumonia_189\n",
            "/content/drive/Shared drives/COVID_19/PrasunAll_Materials/testPneuPre/pneumonia_190\n",
            "/content/drive/Shared drives/COVID_19/PrasunAll_Materials/testPneuPre/pneumonia_191\n",
            "/content/drive/Shared drives/COVID_19/PrasunAll_Materials/testPneuPre/pneumonia_192\n",
            "/content/drive/Shared drives/COVID_19/PrasunAll_Materials/testPneuPre/pneumonia_193\n",
            "/content/drive/Shared drives/COVID_19/PrasunAll_Materials/testPneuPre/pneumonia_194\n",
            "/content/drive/Shared drives/COVID_19/PrasunAll_Materials/testPneuPre/pneumonia_195\n",
            "/content/drive/Shared drives/COVID_19/PrasunAll_Materials/testPneuPre/pneumonia_196\n",
            "/content/drive/Shared drives/COVID_19/PrasunAll_Materials/testPneuPre/pneumonia_197\n",
            "/content/drive/Shared drives/COVID_19/PrasunAll_Materials/testPneuPre/pneumonia_198\n",
            "/content/drive/Shared drives/COVID_19/PrasunAll_Materials/testPneuPre/pneumonia_199\n",
            "/content/drive/Shared drives/COVID_19/PrasunAll_Materials/testPneuPre/pneumonia_200\n",
            "/content/drive/Shared drives/COVID_19/PrasunAll_Materials/testPneuPre/pneumonia_201\n",
            "/content/drive/Shared drives/COVID_19/PrasunAll_Materials/testPneuPre/pneumonia_202\n",
            "/content/drive/Shared drives/COVID_19/PrasunAll_Materials/testPneuPre/pneumonia_203\n",
            "/content/drive/Shared drives/COVID_19/PrasunAll_Materials/testPneuPre/pneumonia_204\n",
            "/content/drive/Shared drives/COVID_19/PrasunAll_Materials/testPneuPre/pneumonia_205\n",
            "/content/drive/Shared drives/COVID_19/PrasunAll_Materials/testPneuPre/pneumonia_206\n",
            "/content/drive/Shared drives/COVID_19/PrasunAll_Materials/testPneuPre/pneumonia_207\n",
            "/content/drive/Shared drives/COVID_19/PrasunAll_Materials/testPneuPre/pneumonia_208\n",
            "/content/drive/Shared drives/COVID_19/PrasunAll_Materials/testPneuPre/pneumonia_209\n",
            "/content/drive/Shared drives/COVID_19/PrasunAll_Materials/testPneuPre/pneumonia_210\n",
            "/content/drive/Shared drives/COVID_19/PrasunAll_Materials/testPneuPre/pneumonia_211\n",
            "/content/drive/Shared drives/COVID_19/PrasunAll_Materials/testPneuPre/pneumonia_212\n",
            "/content/drive/Shared drives/COVID_19/PrasunAll_Materials/testPneuPre/pneumonia_213\n",
            "/content/drive/Shared drives/COVID_19/PrasunAll_Materials/testPneuPre/pneumonia_214\n",
            "/content/drive/Shared drives/COVID_19/PrasunAll_Materials/testPneuPre/pneumonia_215\n",
            "/content/drive/Shared drives/COVID_19/PrasunAll_Materials/testPneuPre/pneumonia_216\n",
            "/content/drive/Shared drives/COVID_19/PrasunAll_Materials/testPneuPre/pneumonia_217\n",
            "/content/drive/Shared drives/COVID_19/PrasunAll_Materials/testPneuPre/pneumonia_218\n",
            "/content/drive/Shared drives/COVID_19/PrasunAll_Materials/testPneuPre/pneumonia_219\n",
            "/content/drive/Shared drives/COVID_19/PrasunAll_Materials/testPneuPre/pneumonia_220\n",
            "/content/drive/Shared drives/COVID_19/PrasunAll_Materials/testPneuPre/pneumonia_221\n",
            "/content/drive/Shared drives/COVID_19/PrasunAll_Materials/testPneuPre/pneumonia_222\n",
            "/content/drive/Shared drives/COVID_19/PrasunAll_Materials/testPneuPre/pneumonia_223\n",
            "/content/drive/Shared drives/COVID_19/PrasunAll_Materials/testPneuPre/pneumonia_224\n",
            "/content/drive/Shared drives/COVID_19/PrasunAll_Materials/testPneuPre/pneumonia_225\n",
            "/content/drive/Shared drives/COVID_19/PrasunAll_Materials/testPneuPre/pneumonia_226\n",
            "/content/drive/Shared drives/COVID_19/PrasunAll_Materials/testPneuPre/pneumonia_227\n",
            "/content/drive/Shared drives/COVID_19/PrasunAll_Materials/testPneuPre/pneumonia_228\n",
            "/content/drive/Shared drives/COVID_19/PrasunAll_Materials/testPneuPre/pneumonia_229\n",
            "/content/drive/Shared drives/COVID_19/PrasunAll_Materials/testPneuPre/pneumonia_230\n",
            "/content/drive/Shared drives/COVID_19/PrasunAll_Materials/testPneuPre/pneumonia_231\n",
            "/content/drive/Shared drives/COVID_19/PrasunAll_Materials/testPneuPre/pneumonia_232\n",
            "/content/drive/Shared drives/COVID_19/PrasunAll_Materials/testPneuPre/pneumonia_233\n",
            "/content/drive/Shared drives/COVID_19/PrasunAll_Materials/testPneuPre/pneumonia_234\n",
            "/content/drive/Shared drives/COVID_19/PrasunAll_Materials/testPneuPre/pneumonia_235\n",
            "/content/drive/Shared drives/COVID_19/PrasunAll_Materials/testPneuPre/pneumonia_236\n",
            "/content/drive/Shared drives/COVID_19/PrasunAll_Materials/testPneuPre/pneumonia_237\n",
            "/content/drive/Shared drives/COVID_19/PrasunAll_Materials/testPneuPre/pneumonia_238\n",
            "/content/drive/Shared drives/COVID_19/PrasunAll_Materials/testPneuPre/pneumonia_239\n",
            "/content/drive/Shared drives/COVID_19/PrasunAll_Materials/testPneuPre/pneumonia_240\n",
            "/content/drive/Shared drives/COVID_19/PrasunAll_Materials/testPneuPre/pneumonia_241\n",
            "/content/drive/Shared drives/COVID_19/PrasunAll_Materials/testPneuPre/pneumonia_242\n",
            "/content/drive/Shared drives/COVID_19/PrasunAll_Materials/testPneuPre/pneumonia_243\n",
            "/content/drive/Shared drives/COVID_19/PrasunAll_Materials/testPneuPre/pneumonia_244\n",
            "/content/drive/Shared drives/COVID_19/PrasunAll_Materials/testPneuPre/pneumonia_245\n",
            "/content/drive/Shared drives/COVID_19/PrasunAll_Materials/testPneuPre/pneumonia_246\n",
            "/content/drive/Shared drives/COVID_19/PrasunAll_Materials/testPneuPre/pneumonia_247\n",
            "/content/drive/Shared drives/COVID_19/PrasunAll_Materials/testPneuPre/pneumonia_248\n",
            "/content/drive/Shared drives/COVID_19/PrasunAll_Materials/testPneuPre/pneumonia_249\n",
            "/content/drive/Shared drives/COVID_19/PrasunAll_Materials/testPneuPre/pneumonia_250\n",
            "/content/drive/Shared drives/COVID_19/PrasunAll_Materials/testPneuPre/pneumonia_251\n",
            "/content/drive/Shared drives/COVID_19/PrasunAll_Materials/testPneuPre/pneumonia_252\n",
            "/content/drive/Shared drives/COVID_19/PrasunAll_Materials/testPneuPre/pneumonia_253\n",
            "/content/drive/Shared drives/COVID_19/PrasunAll_Materials/testPneuPre/pneumonia_254\n",
            "/content/drive/Shared drives/COVID_19/PrasunAll_Materials/testPneuPre/pneumonia_255\n",
            "/content/drive/Shared drives/COVID_19/PrasunAll_Materials/testPneuPre/pneumonia_256\n",
            "/content/drive/Shared drives/COVID_19/PrasunAll_Materials/testPneuPre/pneumonia_257\n",
            "/content/drive/Shared drives/COVID_19/PrasunAll_Materials/testPneuPre/pneumonia_258\n",
            "/content/drive/Shared drives/COVID_19/PrasunAll_Materials/testPneuPre/pneumonia_259\n",
            "/content/drive/Shared drives/COVID_19/PrasunAll_Materials/testPneuPre/pneumonia_260\n",
            "/content/drive/Shared drives/COVID_19/PrasunAll_Materials/testPneuPre/pneumonia_261\n",
            "/content/drive/Shared drives/COVID_19/PrasunAll_Materials/testPneuPre/pneumonia_262\n",
            "/content/drive/Shared drives/COVID_19/PrasunAll_Materials/testPneuPre/pneumonia_263\n",
            "/content/drive/Shared drives/COVID_19/PrasunAll_Materials/testPneuPre/pneumonia_264\n",
            "/content/drive/Shared drives/COVID_19/PrasunAll_Materials/testPneuPre/pneumonia_265\n",
            "/content/drive/Shared drives/COVID_19/PrasunAll_Materials/testPneuPre/pneumonia_266\n",
            "/content/drive/Shared drives/COVID_19/PrasunAll_Materials/testPneuPre/pneumonia_267\n",
            "/content/drive/Shared drives/COVID_19/PrasunAll_Materials/testPneuPre/pneumonia_268\n",
            "/content/drive/Shared drives/COVID_19/PrasunAll_Materials/testPneuPre/pneumonia_269\n",
            "/content/drive/Shared drives/COVID_19/PrasunAll_Materials/testPneuPre/pneumonia_270\n",
            "/content/drive/Shared drives/COVID_19/PrasunAll_Materials/testPneuPre/pneumonia_271\n",
            "/content/drive/Shared drives/COVID_19/PrasunAll_Materials/testPneuPre/pneumonia_272\n",
            "/content/drive/Shared drives/COVID_19/PrasunAll_Materials/testPneuPre/pneumonia_273\n",
            "/content/drive/Shared drives/COVID_19/PrasunAll_Materials/testPneuPre/pneumonia_274\n",
            "/content/drive/Shared drives/COVID_19/PrasunAll_Materials/testPneuPre/pneumonia_275\n",
            "/content/drive/Shared drives/COVID_19/PrasunAll_Materials/testPneuPre/pneumonia_276\n",
            "/content/drive/Shared drives/COVID_19/PrasunAll_Materials/testPneuPre/pneumonia_277\n",
            "/content/drive/Shared drives/COVID_19/PrasunAll_Materials/testPneuPre/pneumonia_278\n",
            "/content/drive/Shared drives/COVID_19/PrasunAll_Materials/testPneuPre/pneumonia_279\n",
            "/content/drive/Shared drives/COVID_19/PrasunAll_Materials/testPneuPre/pneumonia_280\n",
            "/content/drive/Shared drives/COVID_19/PrasunAll_Materials/testPneuPre/pneumonia_281\n",
            "/content/drive/Shared drives/COVID_19/PrasunAll_Materials/testPneuPre/pneumonia_282\n",
            "/content/drive/Shared drives/COVID_19/PrasunAll_Materials/testPneuPre/pneumonia_283\n",
            "/content/drive/Shared drives/COVID_19/PrasunAll_Materials/testPneuPre/pneumonia_284\n",
            "/content/drive/Shared drives/COVID_19/PrasunAll_Materials/testPneuPre/pneumonia_285\n",
            "/content/drive/Shared drives/COVID_19/PrasunAll_Materials/testPneuPre/pneumonia_286\n",
            "/content/drive/Shared drives/COVID_19/PrasunAll_Materials/testPneuPre/pneumonia_287\n",
            "/content/drive/Shared drives/COVID_19/PrasunAll_Materials/testPneuPre/pneumonia_288\n",
            "/content/drive/Shared drives/COVID_19/PrasunAll_Materials/testPneuPre/pneumonia_289\n",
            "/content/drive/Shared drives/COVID_19/PrasunAll_Materials/testPneuPre/pneumonia_290\n",
            "/content/drive/Shared drives/COVID_19/PrasunAll_Materials/testPneuPre/pneumonia_291\n",
            "/content/drive/Shared drives/COVID_19/PrasunAll_Materials/testPneuPre/pneumonia_292\n",
            "/content/drive/Shared drives/COVID_19/PrasunAll_Materials/testPneuPre/pneumonia_293\n",
            "/content/drive/Shared drives/COVID_19/PrasunAll_Materials/testPneuPre/pneumonia_294\n",
            "/content/drive/Shared drives/COVID_19/PrasunAll_Materials/testPneuPre/pneumonia_295\n",
            "/content/drive/Shared drives/COVID_19/PrasunAll_Materials/testPneuPre/pneumonia_296\n",
            "/content/drive/Shared drives/COVID_19/PrasunAll_Materials/testPneuPre/pneumonia_297\n",
            "/content/drive/Shared drives/COVID_19/PrasunAll_Materials/testPneuPre/pneumonia_298\n",
            "/content/drive/Shared drives/COVID_19/PrasunAll_Materials/testPneuPre/pneumonia_299\n",
            "/content/drive/Shared drives/COVID_19/PrasunAll_Materials/testPneuPre/pneumonia_300\n",
            "/content/drive/Shared drives/COVID_19/PrasunAll_Materials/testPneuPre/pneumonia_301\n",
            "/content/drive/Shared drives/COVID_19/PrasunAll_Materials/testPneuPre/pneumonia_302\n",
            "/content/drive/Shared drives/COVID_19/PrasunAll_Materials/testPneuPre/pneumonia_303\n",
            "/content/drive/Shared drives/COVID_19/PrasunAll_Materials/testPneuPre/pneumonia_304\n",
            "/content/drive/Shared drives/COVID_19/PrasunAll_Materials/testPneuPre/pneumonia_305\n",
            "/content/drive/Shared drives/COVID_19/PrasunAll_Materials/testPneuPre/pneumonia_306\n",
            "/content/drive/Shared drives/COVID_19/PrasunAll_Materials/testPneuPre/pneumonia_307\n",
            "/content/drive/Shared drives/COVID_19/PrasunAll_Materials/testPneuPre/pneumonia_308\n",
            "/content/drive/Shared drives/COVID_19/PrasunAll_Materials/testPneuPre/pneumonia_309\n",
            "/content/drive/Shared drives/COVID_19/PrasunAll_Materials/testPneuPre/pneumonia_310\n",
            "/content/drive/Shared drives/COVID_19/PrasunAll_Materials/testPneuPre/pneumonia_311\n",
            "/content/drive/Shared drives/COVID_19/PrasunAll_Materials/testPneuPre/pneumonia_312\n",
            "/content/drive/Shared drives/COVID_19/PrasunAll_Materials/testPneuPre/pneumonia_313\n",
            "/content/drive/Shared drives/COVID_19/PrasunAll_Materials/testPneuPre/pneumonia_314\n",
            "/content/drive/Shared drives/COVID_19/PrasunAll_Materials/testPneuPre/pneumonia_315\n",
            "/content/drive/Shared drives/COVID_19/PrasunAll_Materials/testPneuPre/pneumonia_316\n",
            "/content/drive/Shared drives/COVID_19/PrasunAll_Materials/testPneuPre/pneumonia_317\n",
            "/content/drive/Shared drives/COVID_19/PrasunAll_Materials/testPneuPre/pneumonia_318\n",
            "/content/drive/Shared drives/COVID_19/PrasunAll_Materials/testPneuPre/pneumonia_319\n",
            "/content/drive/Shared drives/COVID_19/PrasunAll_Materials/testPneuPre/pneumonia_320\n",
            "/content/drive/Shared drives/COVID_19/PrasunAll_Materials/testPneuPre/pneumonia_321\n",
            "/content/drive/Shared drives/COVID_19/PrasunAll_Materials/testPneuPre/pneumonia_322\n",
            "/content/drive/Shared drives/COVID_19/PrasunAll_Materials/testPneuPre/pneumonia_323\n",
            "/content/drive/Shared drives/COVID_19/PrasunAll_Materials/testPneuPre/pneumonia_324\n",
            "/content/drive/Shared drives/COVID_19/PrasunAll_Materials/testPneuPre/pneumonia_325\n",
            "/content/drive/Shared drives/COVID_19/PrasunAll_Materials/testPneuPre/pneumonia_326\n",
            "/content/drive/Shared drives/COVID_19/PrasunAll_Materials/testPneuPre/pneumonia_327\n",
            "/content/drive/Shared drives/COVID_19/PrasunAll_Materials/testPneuPre/pneumonia_328\n",
            "/content/drive/Shared drives/COVID_19/PrasunAll_Materials/testPneuPre/pneumonia_329\n",
            "/content/drive/Shared drives/COVID_19/PrasunAll_Materials/testPneuPre/pneumonia_330\n",
            "/content/drive/Shared drives/COVID_19/PrasunAll_Materials/testPneuPre/pneumonia_331\n",
            "/content/drive/Shared drives/COVID_19/PrasunAll_Materials/testPneuPre/pneumonia_332\n",
            "/content/drive/Shared drives/COVID_19/PrasunAll_Materials/testPneuPre/pneumonia_333\n",
            "/content/drive/Shared drives/COVID_19/PrasunAll_Materials/testPneuPre/pneumonia_334\n",
            "/content/drive/Shared drives/COVID_19/PrasunAll_Materials/testPneuPre/pneumonia_335\n",
            "/content/drive/Shared drives/COVID_19/PrasunAll_Materials/testPneuPre/pneumonia_336\n",
            "/content/drive/Shared drives/COVID_19/PrasunAll_Materials/testPneuPre/pneumonia_337\n",
            "/content/drive/Shared drives/COVID_19/PrasunAll_Materials/testPneuPre/pneumonia_338\n",
            "/content/drive/Shared drives/COVID_19/PrasunAll_Materials/testPneuPre/pneumonia_339\n",
            "/content/drive/Shared drives/COVID_19/PrasunAll_Materials/testPneuPre/pneumonia_340\n",
            "/content/drive/Shared drives/COVID_19/PrasunAll_Materials/testPneuPre/pneumonia_341\n",
            "/content/drive/Shared drives/COVID_19/PrasunAll_Materials/testPneuPre/pneumonia_342\n",
            "/content/drive/Shared drives/COVID_19/PrasunAll_Materials/testPneuPre/pneumonia_343\n",
            "/content/drive/Shared drives/COVID_19/PrasunAll_Materials/testPneuPre/pneumonia_344\n",
            "/content/drive/Shared drives/COVID_19/PrasunAll_Materials/testPneuPre/pneumonia_345\n",
            "/content/drive/Shared drives/COVID_19/PrasunAll_Materials/testPneuPre/pneumonia_346\n",
            "/content/drive/Shared drives/COVID_19/PrasunAll_Materials/testPneuPre/pneumonia_347\n",
            "/content/drive/Shared drives/COVID_19/PrasunAll_Materials/testPneuPre/pneumonia_348\n",
            "/content/drive/Shared drives/COVID_19/PrasunAll_Materials/testPneuPre/pneumonia_349\n",
            "/content/drive/Shared drives/COVID_19/PrasunAll_Materials/testPneuPre/pneumonia_350\n",
            "/content/drive/Shared drives/COVID_19/PrasunAll_Materials/testPneuPre/pneumonia_351\n",
            "/content/drive/Shared drives/COVID_19/PrasunAll_Materials/testPneuPre/pneumonia_352\n",
            "/content/drive/Shared drives/COVID_19/PrasunAll_Materials/testPneuPre/pneumonia_353\n",
            "/content/drive/Shared drives/COVID_19/PrasunAll_Materials/testPneuPre/pneumonia_354\n",
            "/content/drive/Shared drives/COVID_19/PrasunAll_Materials/testPneuPre/pneumonia_355\n",
            "/content/drive/Shared drives/COVID_19/PrasunAll_Materials/testPneuPre/pneumonia_356\n",
            "/content/drive/Shared drives/COVID_19/PrasunAll_Materials/testPneuPre/pneumonia_357\n",
            "/content/drive/Shared drives/COVID_19/PrasunAll_Materials/testPneuPre/pneumonia_358\n",
            "/content/drive/Shared drives/COVID_19/PrasunAll_Materials/testPneuPre/pneumonia_359\n",
            "/content/drive/Shared drives/COVID_19/PrasunAll_Materials/testPneuPre/pneumonia_360\n",
            "/content/drive/Shared drives/COVID_19/PrasunAll_Materials/testPneuPre/pneumonia_361\n",
            "/content/drive/Shared drives/COVID_19/PrasunAll_Materials/testPneuPre/pneumonia_362\n",
            "/content/drive/Shared drives/COVID_19/PrasunAll_Materials/testPneuPre/pneumonia_363\n",
            "/content/drive/Shared drives/COVID_19/PrasunAll_Materials/testPneuPre/pneumonia_364\n",
            "/content/drive/Shared drives/COVID_19/PrasunAll_Materials/testPneuPre/pneumonia_365\n",
            "/content/drive/Shared drives/COVID_19/PrasunAll_Materials/testPneuPre/pneumonia_366\n",
            "/content/drive/Shared drives/COVID_19/PrasunAll_Materials/testPneuPre/pneumonia_367\n",
            "/content/drive/Shared drives/COVID_19/PrasunAll_Materials/testPneuPre/pneumonia_368\n",
            "/content/drive/Shared drives/COVID_19/PrasunAll_Materials/testPneuPre/pneumonia_369\n",
            "/content/drive/Shared drives/COVID_19/PrasunAll_Materials/testPneuPre/pneumonia_370\n",
            "/content/drive/Shared drives/COVID_19/PrasunAll_Materials/testPneuPre/pneumonia_371\n",
            "/content/drive/Shared drives/COVID_19/PrasunAll_Materials/testPneuPre/pneumonia_372\n",
            "/content/drive/Shared drives/COVID_19/PrasunAll_Materials/testPneuPre/pneumonia_373\n",
            "/content/drive/Shared drives/COVID_19/PrasunAll_Materials/testPneuPre/pneumonia_374\n",
            "/content/drive/Shared drives/COVID_19/PrasunAll_Materials/testPneuPre/pneumonia_375\n",
            "/content/drive/Shared drives/COVID_19/PrasunAll_Materials/testPneuPre/pneumonia_376\n",
            "/content/drive/Shared drives/COVID_19/PrasunAll_Materials/testPneuPre/pneumonia_377\n",
            "/content/drive/Shared drives/COVID_19/PrasunAll_Materials/testPneuPre/pneumonia_378\n",
            "/content/drive/Shared drives/COVID_19/PrasunAll_Materials/testPneuPre/pneumonia_379\n",
            "/content/drive/Shared drives/COVID_19/PrasunAll_Materials/testPneuPre/pneumonia_380\n",
            "/content/drive/Shared drives/COVID_19/PrasunAll_Materials/testPneuPre/pneumonia_381\n",
            "/content/drive/Shared drives/COVID_19/PrasunAll_Materials/testPneuPre/pneumonia_382\n",
            "/content/drive/Shared drives/COVID_19/PrasunAll_Materials/testPneuPre/pneumonia_383\n",
            "/content/drive/Shared drives/COVID_19/PrasunAll_Materials/testPneuPre/pneumonia_384\n",
            "/content/drive/Shared drives/COVID_19/PrasunAll_Materials/testPneuPre/pneumonia_385\n",
            "/content/drive/Shared drives/COVID_19/PrasunAll_Materials/testPneuPre/pneumonia_386\n",
            "/content/drive/Shared drives/COVID_19/PrasunAll_Materials/testPneuPre/pneumonia_387\n",
            "/content/drive/Shared drives/COVID_19/PrasunAll_Materials/testPneuPre/pneumonia_388\n",
            "/content/drive/Shared drives/COVID_19/PrasunAll_Materials/testPneuPre/pneumonia_389\n",
            "/content/drive/Shared drives/COVID_19/PrasunAll_Materials/testPneuPre/pneumonia_390\n"
          ],
          "name": "stdout"
        }
      ]
    },
    {
      "cell_type": "code",
      "metadata": {
        "id": "tElgYQURBz0G",
        "colab": {
          "base_uri": "https://localhost:8080/",
          "height": 34
        },
        "outputId": "e5c05a60-f782-4197-f9c0-b9f886b9e7c8"
      },
      "source": [
        "len( PneuCoeff)"
      ],
      "execution_count": null,
      "outputs": [
        {
          "output_type": "execute_result",
          "data": {
            "text/plain": [
              "390"
            ]
          },
          "metadata": {
            "tags": []
          },
          "execution_count": 3
        }
      ]
    },
    {
      "cell_type": "code",
      "metadata": {
        "id": "-YKO2RTPIv1b"
      },
      "source": [
        "PneuCoeff = np.reshape(PneuCoeff ,(390,50176))"
      ],
      "execution_count": null,
      "outputs": []
    },
    {
      "cell_type": "code",
      "metadata": {
        "id": "rGqcXgj73z5M",
        "colab": {
          "base_uri": "https://localhost:8080/",
          "height": 1000
        },
        "outputId": "00f771a1-a9c6-49b0-9769-42d60174d59b"
      },
      "source": [
        "NormalCoeff =[]\n",
        "# imagesall = glob.glob(\"/content/drive/My Drive/Abar_ dataset/normal/*\")\n",
        "imagesall = glob.glob('/content/drive/Shared drives/COVID_19/PrasunAll_Materials/testNorPre/*')\n",
        "for k in range(len(imagesall)):\n",
        "    # image = cv2.imread(\"/content/drive/My Drive/Abar_ dataset/normal/\"+\"normal_{}.jpg\".format(k+1))\n",
        "    image = cv2.imread('/content/drive/Shared drives/COVID_19/PrasunAll_Materials/testNorPre/' + 'normal_{}'.format(k+1))\n",
        "    \n",
        "    # print(\"/content/drive/My Drive/Abar_ dataset/normal/\"+\"normal_{}.jpg\".format(k+1))\n",
        "    print('/content/drive/Shared drives/COVID_19/PrasunAll_Materials/testNorPre/' + 'normal_{}'.format(k+1))\n",
        "    image = cv2.cvtColor(image, cv2.COLOR_BGR2GRAY)\n",
        "    image = cv2.resize(image, (224,224))\n",
        "    image = np.float32(image)\n",
        "    image /= 255\n",
        "    coeffs2 = pywt.dwt2(image, 'haar')\n",
        "    LL, (LH, HL, HH) = coeffs2\n",
        "    LLflatten = LL.flatten()\n",
        "    LHflatten = LH.flatten()\n",
        "    HLflatten = HL.flatten()\n",
        "    HHflatten = HH.flatten()\n",
        "    total  = np.append(LLflatten,LHflatten)\n",
        "    total1 = np.append(total ,HLflatten )\n",
        "    total2 = np.append(total1,HHflatten)    \n",
        "    NormalCoeff.append(total2)"
      ],
      "execution_count": null,
      "outputs": [
        {
          "output_type": "stream",
          "text": [
            "/content/drive/Shared drives/COVID_19/PrasunAll_Materials/testNorPre/normal_1\n",
            "/content/drive/Shared drives/COVID_19/PrasunAll_Materials/testNorPre/normal_2\n",
            "/content/drive/Shared drives/COVID_19/PrasunAll_Materials/testNorPre/normal_3\n",
            "/content/drive/Shared drives/COVID_19/PrasunAll_Materials/testNorPre/normal_4\n",
            "/content/drive/Shared drives/COVID_19/PrasunAll_Materials/testNorPre/normal_5\n",
            "/content/drive/Shared drives/COVID_19/PrasunAll_Materials/testNorPre/normal_6\n",
            "/content/drive/Shared drives/COVID_19/PrasunAll_Materials/testNorPre/normal_7\n",
            "/content/drive/Shared drives/COVID_19/PrasunAll_Materials/testNorPre/normal_8\n",
            "/content/drive/Shared drives/COVID_19/PrasunAll_Materials/testNorPre/normal_9\n",
            "/content/drive/Shared drives/COVID_19/PrasunAll_Materials/testNorPre/normal_10\n",
            "/content/drive/Shared drives/COVID_19/PrasunAll_Materials/testNorPre/normal_11\n",
            "/content/drive/Shared drives/COVID_19/PrasunAll_Materials/testNorPre/normal_12\n",
            "/content/drive/Shared drives/COVID_19/PrasunAll_Materials/testNorPre/normal_13\n",
            "/content/drive/Shared drives/COVID_19/PrasunAll_Materials/testNorPre/normal_14\n",
            "/content/drive/Shared drives/COVID_19/PrasunAll_Materials/testNorPre/normal_15\n",
            "/content/drive/Shared drives/COVID_19/PrasunAll_Materials/testNorPre/normal_16\n",
            "/content/drive/Shared drives/COVID_19/PrasunAll_Materials/testNorPre/normal_17\n",
            "/content/drive/Shared drives/COVID_19/PrasunAll_Materials/testNorPre/normal_18\n",
            "/content/drive/Shared drives/COVID_19/PrasunAll_Materials/testNorPre/normal_19\n",
            "/content/drive/Shared drives/COVID_19/PrasunAll_Materials/testNorPre/normal_20\n",
            "/content/drive/Shared drives/COVID_19/PrasunAll_Materials/testNorPre/normal_21\n",
            "/content/drive/Shared drives/COVID_19/PrasunAll_Materials/testNorPre/normal_22\n",
            "/content/drive/Shared drives/COVID_19/PrasunAll_Materials/testNorPre/normal_23\n",
            "/content/drive/Shared drives/COVID_19/PrasunAll_Materials/testNorPre/normal_24\n",
            "/content/drive/Shared drives/COVID_19/PrasunAll_Materials/testNorPre/normal_25\n",
            "/content/drive/Shared drives/COVID_19/PrasunAll_Materials/testNorPre/normal_26\n",
            "/content/drive/Shared drives/COVID_19/PrasunAll_Materials/testNorPre/normal_27\n",
            "/content/drive/Shared drives/COVID_19/PrasunAll_Materials/testNorPre/normal_28\n",
            "/content/drive/Shared drives/COVID_19/PrasunAll_Materials/testNorPre/normal_29\n",
            "/content/drive/Shared drives/COVID_19/PrasunAll_Materials/testNorPre/normal_30\n",
            "/content/drive/Shared drives/COVID_19/PrasunAll_Materials/testNorPre/normal_31\n",
            "/content/drive/Shared drives/COVID_19/PrasunAll_Materials/testNorPre/normal_32\n",
            "/content/drive/Shared drives/COVID_19/PrasunAll_Materials/testNorPre/normal_33\n",
            "/content/drive/Shared drives/COVID_19/PrasunAll_Materials/testNorPre/normal_34\n",
            "/content/drive/Shared drives/COVID_19/PrasunAll_Materials/testNorPre/normal_35\n",
            "/content/drive/Shared drives/COVID_19/PrasunAll_Materials/testNorPre/normal_36\n",
            "/content/drive/Shared drives/COVID_19/PrasunAll_Materials/testNorPre/normal_37\n",
            "/content/drive/Shared drives/COVID_19/PrasunAll_Materials/testNorPre/normal_38\n",
            "/content/drive/Shared drives/COVID_19/PrasunAll_Materials/testNorPre/normal_39\n",
            "/content/drive/Shared drives/COVID_19/PrasunAll_Materials/testNorPre/normal_40\n",
            "/content/drive/Shared drives/COVID_19/PrasunAll_Materials/testNorPre/normal_41\n",
            "/content/drive/Shared drives/COVID_19/PrasunAll_Materials/testNorPre/normal_42\n",
            "/content/drive/Shared drives/COVID_19/PrasunAll_Materials/testNorPre/normal_43\n",
            "/content/drive/Shared drives/COVID_19/PrasunAll_Materials/testNorPre/normal_44\n",
            "/content/drive/Shared drives/COVID_19/PrasunAll_Materials/testNorPre/normal_45\n",
            "/content/drive/Shared drives/COVID_19/PrasunAll_Materials/testNorPre/normal_46\n",
            "/content/drive/Shared drives/COVID_19/PrasunAll_Materials/testNorPre/normal_47\n",
            "/content/drive/Shared drives/COVID_19/PrasunAll_Materials/testNorPre/normal_48\n",
            "/content/drive/Shared drives/COVID_19/PrasunAll_Materials/testNorPre/normal_49\n",
            "/content/drive/Shared drives/COVID_19/PrasunAll_Materials/testNorPre/normal_50\n",
            "/content/drive/Shared drives/COVID_19/PrasunAll_Materials/testNorPre/normal_51\n",
            "/content/drive/Shared drives/COVID_19/PrasunAll_Materials/testNorPre/normal_52\n",
            "/content/drive/Shared drives/COVID_19/PrasunAll_Materials/testNorPre/normal_53\n",
            "/content/drive/Shared drives/COVID_19/PrasunAll_Materials/testNorPre/normal_54\n",
            "/content/drive/Shared drives/COVID_19/PrasunAll_Materials/testNorPre/normal_55\n",
            "/content/drive/Shared drives/COVID_19/PrasunAll_Materials/testNorPre/normal_56\n",
            "/content/drive/Shared drives/COVID_19/PrasunAll_Materials/testNorPre/normal_57\n",
            "/content/drive/Shared drives/COVID_19/PrasunAll_Materials/testNorPre/normal_58\n",
            "/content/drive/Shared drives/COVID_19/PrasunAll_Materials/testNorPre/normal_59\n",
            "/content/drive/Shared drives/COVID_19/PrasunAll_Materials/testNorPre/normal_60\n",
            "/content/drive/Shared drives/COVID_19/PrasunAll_Materials/testNorPre/normal_61\n",
            "/content/drive/Shared drives/COVID_19/PrasunAll_Materials/testNorPre/normal_62\n",
            "/content/drive/Shared drives/COVID_19/PrasunAll_Materials/testNorPre/normal_63\n",
            "/content/drive/Shared drives/COVID_19/PrasunAll_Materials/testNorPre/normal_64\n",
            "/content/drive/Shared drives/COVID_19/PrasunAll_Materials/testNorPre/normal_65\n",
            "/content/drive/Shared drives/COVID_19/PrasunAll_Materials/testNorPre/normal_66\n",
            "/content/drive/Shared drives/COVID_19/PrasunAll_Materials/testNorPre/normal_67\n",
            "/content/drive/Shared drives/COVID_19/PrasunAll_Materials/testNorPre/normal_68\n",
            "/content/drive/Shared drives/COVID_19/PrasunAll_Materials/testNorPre/normal_69\n",
            "/content/drive/Shared drives/COVID_19/PrasunAll_Materials/testNorPre/normal_70\n",
            "/content/drive/Shared drives/COVID_19/PrasunAll_Materials/testNorPre/normal_71\n",
            "/content/drive/Shared drives/COVID_19/PrasunAll_Materials/testNorPre/normal_72\n",
            "/content/drive/Shared drives/COVID_19/PrasunAll_Materials/testNorPre/normal_73\n",
            "/content/drive/Shared drives/COVID_19/PrasunAll_Materials/testNorPre/normal_74\n",
            "/content/drive/Shared drives/COVID_19/PrasunAll_Materials/testNorPre/normal_75\n",
            "/content/drive/Shared drives/COVID_19/PrasunAll_Materials/testNorPre/normal_76\n",
            "/content/drive/Shared drives/COVID_19/PrasunAll_Materials/testNorPre/normal_77\n",
            "/content/drive/Shared drives/COVID_19/PrasunAll_Materials/testNorPre/normal_78\n",
            "/content/drive/Shared drives/COVID_19/PrasunAll_Materials/testNorPre/normal_79\n",
            "/content/drive/Shared drives/COVID_19/PrasunAll_Materials/testNorPre/normal_80\n",
            "/content/drive/Shared drives/COVID_19/PrasunAll_Materials/testNorPre/normal_81\n",
            "/content/drive/Shared drives/COVID_19/PrasunAll_Materials/testNorPre/normal_82\n",
            "/content/drive/Shared drives/COVID_19/PrasunAll_Materials/testNorPre/normal_83\n",
            "/content/drive/Shared drives/COVID_19/PrasunAll_Materials/testNorPre/normal_84\n",
            "/content/drive/Shared drives/COVID_19/PrasunAll_Materials/testNorPre/normal_85\n",
            "/content/drive/Shared drives/COVID_19/PrasunAll_Materials/testNorPre/normal_86\n",
            "/content/drive/Shared drives/COVID_19/PrasunAll_Materials/testNorPre/normal_87\n",
            "/content/drive/Shared drives/COVID_19/PrasunAll_Materials/testNorPre/normal_88\n",
            "/content/drive/Shared drives/COVID_19/PrasunAll_Materials/testNorPre/normal_89\n",
            "/content/drive/Shared drives/COVID_19/PrasunAll_Materials/testNorPre/normal_90\n",
            "/content/drive/Shared drives/COVID_19/PrasunAll_Materials/testNorPre/normal_91\n",
            "/content/drive/Shared drives/COVID_19/PrasunAll_Materials/testNorPre/normal_92\n",
            "/content/drive/Shared drives/COVID_19/PrasunAll_Materials/testNorPre/normal_93\n",
            "/content/drive/Shared drives/COVID_19/PrasunAll_Materials/testNorPre/normal_94\n",
            "/content/drive/Shared drives/COVID_19/PrasunAll_Materials/testNorPre/normal_95\n",
            "/content/drive/Shared drives/COVID_19/PrasunAll_Materials/testNorPre/normal_96\n",
            "/content/drive/Shared drives/COVID_19/PrasunAll_Materials/testNorPre/normal_97\n",
            "/content/drive/Shared drives/COVID_19/PrasunAll_Materials/testNorPre/normal_98\n",
            "/content/drive/Shared drives/COVID_19/PrasunAll_Materials/testNorPre/normal_99\n",
            "/content/drive/Shared drives/COVID_19/PrasunAll_Materials/testNorPre/normal_100\n",
            "/content/drive/Shared drives/COVID_19/PrasunAll_Materials/testNorPre/normal_101\n",
            "/content/drive/Shared drives/COVID_19/PrasunAll_Materials/testNorPre/normal_102\n",
            "/content/drive/Shared drives/COVID_19/PrasunAll_Materials/testNorPre/normal_103\n",
            "/content/drive/Shared drives/COVID_19/PrasunAll_Materials/testNorPre/normal_104\n",
            "/content/drive/Shared drives/COVID_19/PrasunAll_Materials/testNorPre/normal_105\n",
            "/content/drive/Shared drives/COVID_19/PrasunAll_Materials/testNorPre/normal_106\n",
            "/content/drive/Shared drives/COVID_19/PrasunAll_Materials/testNorPre/normal_107\n",
            "/content/drive/Shared drives/COVID_19/PrasunAll_Materials/testNorPre/normal_108\n",
            "/content/drive/Shared drives/COVID_19/PrasunAll_Materials/testNorPre/normal_109\n",
            "/content/drive/Shared drives/COVID_19/PrasunAll_Materials/testNorPre/normal_110\n",
            "/content/drive/Shared drives/COVID_19/PrasunAll_Materials/testNorPre/normal_111\n",
            "/content/drive/Shared drives/COVID_19/PrasunAll_Materials/testNorPre/normal_112\n",
            "/content/drive/Shared drives/COVID_19/PrasunAll_Materials/testNorPre/normal_113\n",
            "/content/drive/Shared drives/COVID_19/PrasunAll_Materials/testNorPre/normal_114\n",
            "/content/drive/Shared drives/COVID_19/PrasunAll_Materials/testNorPre/normal_115\n",
            "/content/drive/Shared drives/COVID_19/PrasunAll_Materials/testNorPre/normal_116\n",
            "/content/drive/Shared drives/COVID_19/PrasunAll_Materials/testNorPre/normal_117\n",
            "/content/drive/Shared drives/COVID_19/PrasunAll_Materials/testNorPre/normal_118\n",
            "/content/drive/Shared drives/COVID_19/PrasunAll_Materials/testNorPre/normal_119\n",
            "/content/drive/Shared drives/COVID_19/PrasunAll_Materials/testNorPre/normal_120\n",
            "/content/drive/Shared drives/COVID_19/PrasunAll_Materials/testNorPre/normal_121\n",
            "/content/drive/Shared drives/COVID_19/PrasunAll_Materials/testNorPre/normal_122\n",
            "/content/drive/Shared drives/COVID_19/PrasunAll_Materials/testNorPre/normal_123\n",
            "/content/drive/Shared drives/COVID_19/PrasunAll_Materials/testNorPre/normal_124\n",
            "/content/drive/Shared drives/COVID_19/PrasunAll_Materials/testNorPre/normal_125\n",
            "/content/drive/Shared drives/COVID_19/PrasunAll_Materials/testNorPre/normal_126\n",
            "/content/drive/Shared drives/COVID_19/PrasunAll_Materials/testNorPre/normal_127\n",
            "/content/drive/Shared drives/COVID_19/PrasunAll_Materials/testNorPre/normal_128\n",
            "/content/drive/Shared drives/COVID_19/PrasunAll_Materials/testNorPre/normal_129\n",
            "/content/drive/Shared drives/COVID_19/PrasunAll_Materials/testNorPre/normal_130\n",
            "/content/drive/Shared drives/COVID_19/PrasunAll_Materials/testNorPre/normal_131\n",
            "/content/drive/Shared drives/COVID_19/PrasunAll_Materials/testNorPre/normal_132\n",
            "/content/drive/Shared drives/COVID_19/PrasunAll_Materials/testNorPre/normal_133\n",
            "/content/drive/Shared drives/COVID_19/PrasunAll_Materials/testNorPre/normal_134\n",
            "/content/drive/Shared drives/COVID_19/PrasunAll_Materials/testNorPre/normal_135\n",
            "/content/drive/Shared drives/COVID_19/PrasunAll_Materials/testNorPre/normal_136\n",
            "/content/drive/Shared drives/COVID_19/PrasunAll_Materials/testNorPre/normal_137\n",
            "/content/drive/Shared drives/COVID_19/PrasunAll_Materials/testNorPre/normal_138\n",
            "/content/drive/Shared drives/COVID_19/PrasunAll_Materials/testNorPre/normal_139\n",
            "/content/drive/Shared drives/COVID_19/PrasunAll_Materials/testNorPre/normal_140\n",
            "/content/drive/Shared drives/COVID_19/PrasunAll_Materials/testNorPre/normal_141\n",
            "/content/drive/Shared drives/COVID_19/PrasunAll_Materials/testNorPre/normal_142\n",
            "/content/drive/Shared drives/COVID_19/PrasunAll_Materials/testNorPre/normal_143\n",
            "/content/drive/Shared drives/COVID_19/PrasunAll_Materials/testNorPre/normal_144\n",
            "/content/drive/Shared drives/COVID_19/PrasunAll_Materials/testNorPre/normal_145\n",
            "/content/drive/Shared drives/COVID_19/PrasunAll_Materials/testNorPre/normal_146\n",
            "/content/drive/Shared drives/COVID_19/PrasunAll_Materials/testNorPre/normal_147\n",
            "/content/drive/Shared drives/COVID_19/PrasunAll_Materials/testNorPre/normal_148\n",
            "/content/drive/Shared drives/COVID_19/PrasunAll_Materials/testNorPre/normal_149\n",
            "/content/drive/Shared drives/COVID_19/PrasunAll_Materials/testNorPre/normal_150\n",
            "/content/drive/Shared drives/COVID_19/PrasunAll_Materials/testNorPre/normal_151\n",
            "/content/drive/Shared drives/COVID_19/PrasunAll_Materials/testNorPre/normal_152\n",
            "/content/drive/Shared drives/COVID_19/PrasunAll_Materials/testNorPre/normal_153\n",
            "/content/drive/Shared drives/COVID_19/PrasunAll_Materials/testNorPre/normal_154\n",
            "/content/drive/Shared drives/COVID_19/PrasunAll_Materials/testNorPre/normal_155\n",
            "/content/drive/Shared drives/COVID_19/PrasunAll_Materials/testNorPre/normal_156\n",
            "/content/drive/Shared drives/COVID_19/PrasunAll_Materials/testNorPre/normal_157\n",
            "/content/drive/Shared drives/COVID_19/PrasunAll_Materials/testNorPre/normal_158\n",
            "/content/drive/Shared drives/COVID_19/PrasunAll_Materials/testNorPre/normal_159\n",
            "/content/drive/Shared drives/COVID_19/PrasunAll_Materials/testNorPre/normal_160\n",
            "/content/drive/Shared drives/COVID_19/PrasunAll_Materials/testNorPre/normal_161\n",
            "/content/drive/Shared drives/COVID_19/PrasunAll_Materials/testNorPre/normal_162\n",
            "/content/drive/Shared drives/COVID_19/PrasunAll_Materials/testNorPre/normal_163\n",
            "/content/drive/Shared drives/COVID_19/PrasunAll_Materials/testNorPre/normal_164\n",
            "/content/drive/Shared drives/COVID_19/PrasunAll_Materials/testNorPre/normal_165\n",
            "/content/drive/Shared drives/COVID_19/PrasunAll_Materials/testNorPre/normal_166\n",
            "/content/drive/Shared drives/COVID_19/PrasunAll_Materials/testNorPre/normal_167\n",
            "/content/drive/Shared drives/COVID_19/PrasunAll_Materials/testNorPre/normal_168\n",
            "/content/drive/Shared drives/COVID_19/PrasunAll_Materials/testNorPre/normal_169\n",
            "/content/drive/Shared drives/COVID_19/PrasunAll_Materials/testNorPre/normal_170\n",
            "/content/drive/Shared drives/COVID_19/PrasunAll_Materials/testNorPre/normal_171\n",
            "/content/drive/Shared drives/COVID_19/PrasunAll_Materials/testNorPre/normal_172\n",
            "/content/drive/Shared drives/COVID_19/PrasunAll_Materials/testNorPre/normal_173\n",
            "/content/drive/Shared drives/COVID_19/PrasunAll_Materials/testNorPre/normal_174\n",
            "/content/drive/Shared drives/COVID_19/PrasunAll_Materials/testNorPre/normal_175\n",
            "/content/drive/Shared drives/COVID_19/PrasunAll_Materials/testNorPre/normal_176\n",
            "/content/drive/Shared drives/COVID_19/PrasunAll_Materials/testNorPre/normal_177\n",
            "/content/drive/Shared drives/COVID_19/PrasunAll_Materials/testNorPre/normal_178\n",
            "/content/drive/Shared drives/COVID_19/PrasunAll_Materials/testNorPre/normal_179\n",
            "/content/drive/Shared drives/COVID_19/PrasunAll_Materials/testNorPre/normal_180\n",
            "/content/drive/Shared drives/COVID_19/PrasunAll_Materials/testNorPre/normal_181\n",
            "/content/drive/Shared drives/COVID_19/PrasunAll_Materials/testNorPre/normal_182\n",
            "/content/drive/Shared drives/COVID_19/PrasunAll_Materials/testNorPre/normal_183\n",
            "/content/drive/Shared drives/COVID_19/PrasunAll_Materials/testNorPre/normal_184\n",
            "/content/drive/Shared drives/COVID_19/PrasunAll_Materials/testNorPre/normal_185\n",
            "/content/drive/Shared drives/COVID_19/PrasunAll_Materials/testNorPre/normal_186\n",
            "/content/drive/Shared drives/COVID_19/PrasunAll_Materials/testNorPre/normal_187\n",
            "/content/drive/Shared drives/COVID_19/PrasunAll_Materials/testNorPre/normal_188\n",
            "/content/drive/Shared drives/COVID_19/PrasunAll_Materials/testNorPre/normal_189\n",
            "/content/drive/Shared drives/COVID_19/PrasunAll_Materials/testNorPre/normal_190\n",
            "/content/drive/Shared drives/COVID_19/PrasunAll_Materials/testNorPre/normal_191\n",
            "/content/drive/Shared drives/COVID_19/PrasunAll_Materials/testNorPre/normal_192\n",
            "/content/drive/Shared drives/COVID_19/PrasunAll_Materials/testNorPre/normal_193\n",
            "/content/drive/Shared drives/COVID_19/PrasunAll_Materials/testNorPre/normal_194\n",
            "/content/drive/Shared drives/COVID_19/PrasunAll_Materials/testNorPre/normal_195\n",
            "/content/drive/Shared drives/COVID_19/PrasunAll_Materials/testNorPre/normal_196\n",
            "/content/drive/Shared drives/COVID_19/PrasunAll_Materials/testNorPre/normal_197\n",
            "/content/drive/Shared drives/COVID_19/PrasunAll_Materials/testNorPre/normal_198\n",
            "/content/drive/Shared drives/COVID_19/PrasunAll_Materials/testNorPre/normal_199\n",
            "/content/drive/Shared drives/COVID_19/PrasunAll_Materials/testNorPre/normal_200\n",
            "/content/drive/Shared drives/COVID_19/PrasunAll_Materials/testNorPre/normal_201\n",
            "/content/drive/Shared drives/COVID_19/PrasunAll_Materials/testNorPre/normal_202\n",
            "/content/drive/Shared drives/COVID_19/PrasunAll_Materials/testNorPre/normal_203\n",
            "/content/drive/Shared drives/COVID_19/PrasunAll_Materials/testNorPre/normal_204\n",
            "/content/drive/Shared drives/COVID_19/PrasunAll_Materials/testNorPre/normal_205\n",
            "/content/drive/Shared drives/COVID_19/PrasunAll_Materials/testNorPre/normal_206\n",
            "/content/drive/Shared drives/COVID_19/PrasunAll_Materials/testNorPre/normal_207\n",
            "/content/drive/Shared drives/COVID_19/PrasunAll_Materials/testNorPre/normal_208\n",
            "/content/drive/Shared drives/COVID_19/PrasunAll_Materials/testNorPre/normal_209\n",
            "/content/drive/Shared drives/COVID_19/PrasunAll_Materials/testNorPre/normal_210\n",
            "/content/drive/Shared drives/COVID_19/PrasunAll_Materials/testNorPre/normal_211\n",
            "/content/drive/Shared drives/COVID_19/PrasunAll_Materials/testNorPre/normal_212\n",
            "/content/drive/Shared drives/COVID_19/PrasunAll_Materials/testNorPre/normal_213\n",
            "/content/drive/Shared drives/COVID_19/PrasunAll_Materials/testNorPre/normal_214\n",
            "/content/drive/Shared drives/COVID_19/PrasunAll_Materials/testNorPre/normal_215\n",
            "/content/drive/Shared drives/COVID_19/PrasunAll_Materials/testNorPre/normal_216\n",
            "/content/drive/Shared drives/COVID_19/PrasunAll_Materials/testNorPre/normal_217\n",
            "/content/drive/Shared drives/COVID_19/PrasunAll_Materials/testNorPre/normal_218\n",
            "/content/drive/Shared drives/COVID_19/PrasunAll_Materials/testNorPre/normal_219\n",
            "/content/drive/Shared drives/COVID_19/PrasunAll_Materials/testNorPre/normal_220\n",
            "/content/drive/Shared drives/COVID_19/PrasunAll_Materials/testNorPre/normal_221\n",
            "/content/drive/Shared drives/COVID_19/PrasunAll_Materials/testNorPre/normal_222\n",
            "/content/drive/Shared drives/COVID_19/PrasunAll_Materials/testNorPre/normal_223\n",
            "/content/drive/Shared drives/COVID_19/PrasunAll_Materials/testNorPre/normal_224\n",
            "/content/drive/Shared drives/COVID_19/PrasunAll_Materials/testNorPre/normal_225\n",
            "/content/drive/Shared drives/COVID_19/PrasunAll_Materials/testNorPre/normal_226\n",
            "/content/drive/Shared drives/COVID_19/PrasunAll_Materials/testNorPre/normal_227\n",
            "/content/drive/Shared drives/COVID_19/PrasunAll_Materials/testNorPre/normal_228\n",
            "/content/drive/Shared drives/COVID_19/PrasunAll_Materials/testNorPre/normal_229\n",
            "/content/drive/Shared drives/COVID_19/PrasunAll_Materials/testNorPre/normal_230\n",
            "/content/drive/Shared drives/COVID_19/PrasunAll_Materials/testNorPre/normal_231\n",
            "/content/drive/Shared drives/COVID_19/PrasunAll_Materials/testNorPre/normal_232\n",
            "/content/drive/Shared drives/COVID_19/PrasunAll_Materials/testNorPre/normal_233\n",
            "/content/drive/Shared drives/COVID_19/PrasunAll_Materials/testNorPre/normal_234\n"
          ],
          "name": "stdout"
        }
      ]
    },
    {
      "cell_type": "code",
      "metadata": {
        "id": "7YO1R1Dm6Mim",
        "colab": {
          "base_uri": "https://localhost:8080/",
          "height": 34
        },
        "outputId": "627c23ea-5606-4738-80a6-52dcab432194"
      },
      "source": [
        "print(len(NormalCoeff))"
      ],
      "execution_count": null,
      "outputs": [
        {
          "output_type": "stream",
          "text": [
            "234\n"
          ],
          "name": "stdout"
        }
      ]
    },
    {
      "cell_type": "code",
      "metadata": {
        "id": "LCE7yZvu6O0E"
      },
      "source": [
        "NormalCoeff = np.reshape(NormalCoeff ,(234,50176))"
      ],
      "execution_count": null,
      "outputs": []
    },
    {
      "cell_type": "code",
      "metadata": {
        "id": "61P81UPo6RYx"
      },
      "source": [
        "Coviddf = pd.DataFrame(CovidCoeff)\n",
        "Coviddf.to_csv('/content/drive/My Drive/(Prasun)AllCodes&Results/CovWave - Sheet1.csv', index =False)"
      ],
      "execution_count": null,
      "outputs": []
    },
    {
      "cell_type": "code",
      "metadata": {
        "id": "6ImFtz1J6S7D"
      },
      "source": [
        "Normaldf = pd.DataFrame(NormalCoeff)\n",
        "Normaldf.to_csv('/content/drive/Shared drives/COVID_19/PrasunAll_Materials/testNorWave - Sheet1.csv', index =False)"
      ],
      "execution_count": null,
      "outputs": []
    },
    {
      "cell_type": "code",
      "metadata": {
        "id": "xHRnnA3K6VoM"
      },
      "source": [
        "pneudf = pd.DataFrame(PneuCoeff)\n",
        "pneudf.to_csv('/content/drive/Shared drives/COVID_19/PrasunAll_Materials/testPneuWave - Sheet1.csv',index = False)"
      ],
      "execution_count": null,
      "outputs": []
    },
    {
      "cell_type": "code",
      "metadata": {
        "id": "TrYAyaSgJpe8"
      },
      "source": [
        "# covidindexs = []\n",
        "# imagesall = glob.glob(\"/content/drive/My Drive/final_dataset/CovidPreprocessedImage/*\")\n",
        "# for k in range(len(imagesall)):\n",
        "#   index = 'covid_{}'.format(k)\n",
        "#   covidindexs.append(index)\n",
        "# #print(covidindexs) \n",
        "\n",
        "# normalindexs = []\n",
        "# imagesall = glob.glob(\"/content/drive/My Drive/final_dataset/NormalPreprocessedImage/*\")\n",
        "# for k in range(len(imagesall)):\n",
        "#   index = 'normal_{}'.format(k)\n",
        "#   normalindexs.append(index)"
      ],
      "execution_count": null,
      "outputs": []
    },
    {
      "cell_type": "code",
      "metadata": {
        "id": "EpDavIgiKK9m"
      },
      "source": [
        "Coviddf = pd.DataFrame(CovidCoeff)\n",
        "Coviddf.to_csv('/content/drive/My Drive/(Prasun)AllCodes&Results/TestCovPre.csv' ,index =False)\n",
        "# Coviddf.to_csv('/content/drive/My Drive/(Prasun)AllCodes&Results/Cov10Prepro - Sheet1.csv', index =False)\n",
        "# Coviddf = pd.read_csv('/content/drive/My Drive/final_dataset/CovidPreprocess.csv')\n",
        "# Normaldf = pd.read_csv('/content/drive/My Drive/final_dataset/NormalPreprocess.csv')"
      ],
      "execution_count": null,
      "outputs": []
    },
    {
      "cell_type": "code",
      "metadata": {
        "id": "lkV0ll9hR35s"
      },
      "source": [
        "Pneudf = pd.DataFrame(PneuCoeff)\n",
        "Pneudf.to_csv('/content/drive/Shared drives/COVID_19/PrasunAll_Materials/testPneuWave - Sheet1.csv', index =False)"
      ],
      "execution_count": null,
      "outputs": []
    },
    {
      "cell_type": "code",
      "metadata": {
        "id": "NJO3pgMoVfYd",
        "colab": {
          "base_uri": "https://localhost:8080/",
          "height": 255
        },
        "outputId": "dfc66c10-c626-4d61-c77c-9fb88d14e179"
      },
      "source": [
        "print(Pneudf)"
      ],
      "execution_count": null,
      "outputs": [
        {
          "output_type": "stream",
          "text": [
            "     0      1      2      3      4      ...  50171  50172  50173  50174  50175\n",
            "0     18.5   16.0   43.0   65.0   62.0  ...   -2.5    0.5    0.5    0.0    1.0\n",
            "1     11.0    9.5   45.5   25.0   37.0  ...    5.0    1.5   -1.0    1.5    7.0\n",
            "2     16.5    8.0   11.0   12.0    8.5  ...   -4.0    1.5    0.5    2.5   -2.0\n",
            "3      0.0    0.0    0.0    0.0    0.0  ...    9.0   13.5    0.5   -3.5   -1.5\n",
            "4      5.5    7.0   15.5   17.5   14.0  ...    0.0    0.0    0.0    0.0    0.0\n",
            "..     ...    ...    ...    ...    ...  ...    ...    ...    ...    ...    ...\n",
            "195   40.5   38.5   17.5   14.5   16.0  ...    1.0    0.5   -1.5   -3.5    6.5\n",
            "196   65.0  183.0   50.0  205.0  108.5  ...    0.5   -0.5    0.0    0.0    0.0\n",
            "197    2.0    6.5   22.0  138.5  146.5  ...    0.0    0.0    0.0    0.0    0.0\n",
            "198   10.0    4.5   35.5   34.0   29.5  ...    7.5    2.0    0.5    0.0   -0.5\n",
            "199    6.0   11.5   50.5   14.0   26.5  ...    0.5    0.0    0.0    0.0    0.0\n",
            "\n",
            "[200 rows x 50176 columns]\n"
          ],
          "name": "stdout"
        }
      ]
    },
    {
      "cell_type": "code",
      "metadata": {
        "id": "GjkIQY1m0GND"
      },
      "source": [
        "CNNCoviddf =pd.read_csv(\"/content/drive/My Drive/final_dataset/CNNcovidfeature.csv\")\n",
        "#print(CNNCoviddf)\n",
        "CNNCoviddf = CNNCoviddf.drop(columns=['Unnamed: 0'])"
      ],
      "execution_count": null,
      "outputs": []
    },
    {
      "cell_type": "code",
      "metadata": {
        "id": "aHjkN7O17OL6",
        "colab": {
          "base_uri": "https://localhost:8080/",
          "height": 255
        },
        "outputId": "20090970-7058-487b-f5fb-1829ffd20982"
      },
      "source": [
        "print(CNNCoviddf)"
      ],
      "execution_count": null,
      "outputs": [
        {
          "output_type": "stream",
          "text": [
            "            0         1    2         3  ...  50172     50173      50174     50175\n",
            "0    0.000066  0.032173  0.0  0.011439  ...    0.0  0.000000   1.214023  0.000000\n",
            "1    0.000000  0.000000  0.0  0.000000  ...    0.0  2.096105   5.954577  0.000000\n",
            "2    0.000000  0.000000  0.0  0.018216  ...    0.0  3.283184   4.058577  0.000000\n",
            "3    0.000000  0.000000  0.0  0.000000  ...    0.0  3.952179   2.684035  0.000000\n",
            "4    0.000000  0.011882  0.0  0.001277  ...    0.0  0.000000   3.632239  0.000000\n",
            "..        ...       ...  ...       ...  ...    ...       ...        ...       ...\n",
            "182  0.000000  0.000000  0.0  0.000000  ...    0.0  1.675738   1.116205  0.000000\n",
            "183  0.000000  0.000000  0.0  0.000000  ...    0.0  2.934590   3.047397  3.565028\n",
            "184  0.000000  0.000000  0.0  0.000000  ...    0.0  0.771862   0.000000  1.588662\n",
            "185  0.000000  0.000000  0.0  0.000000  ...    0.0  4.602553  13.223021  5.271709\n",
            "186  0.000000  0.000000  0.0  0.000000  ...    0.0  3.257656   6.970351  0.000000\n",
            "\n",
            "[187 rows x 50176 columns]\n"
          ],
          "name": "stdout"
        }
      ]
    },
    {
      "cell_type": "code",
      "metadata": {
        "id": "pEKXXM2i1Sqd"
      },
      "source": [
        "CNNNormaldf =pd.read_csv(\"/content/drive/My Drive/final_dataset/CNNnormalfeature.csv\")\n",
        "#print(CNNNormaldf)\n",
        "CNNNormaldf = CNNNormaldf.drop(columns=['Unnamed: 0'])"
      ],
      "execution_count": null,
      "outputs": []
    },
    {
      "cell_type": "code",
      "metadata": {
        "id": "b56jNMbR8CL9",
        "colab": {
          "base_uri": "https://localhost:8080/",
          "height": 255
        },
        "outputId": "8b75cc23-e931-4628-bac1-e031338fb30e"
      },
      "source": [
        "print(CNNNormaldf)"
      ],
      "execution_count": null,
      "outputs": [
        {
          "output_type": "stream",
          "text": [
            "             0    1         2         3  ...     50172     50173     50174     50175\n",
            "0     0.000000  0.0  0.000000  0.000000  ...  0.000000  0.906729  0.000000  0.000000\n",
            "1     0.000000  0.0  0.000000  0.007448  ...  0.000000  1.089756  0.000000  0.000000\n",
            "2     0.000000  0.0  0.000000  0.000000  ...  0.000000  0.591929  1.137079  0.000000\n",
            "3     0.000698  0.0  0.000000  0.009772  ...  1.060648  3.740096  3.773620  2.796393\n",
            "4     0.000000  0.0  0.000000  0.000094  ...  0.000000  0.000000  0.000000  0.378787\n",
            "...        ...  ...       ...       ...  ...       ...       ...       ...       ...\n",
            "1095  0.000000  0.0  0.000000  0.000000  ...  0.000000  6.592725  0.000000  0.000000\n",
            "1096  0.000000  0.0  0.014787  0.000000  ...  0.000000  1.646161  5.353610  0.000000\n",
            "1097  0.000000  0.0  0.000000  0.000000  ...  0.000000  0.000000  2.197974  0.000000\n",
            "1098  0.000000  0.0  0.000000  0.000000  ...  0.000000  0.000000  4.008609  0.000000\n",
            "1099  0.000000  0.0  0.000000  0.000000  ...  0.000000  0.000000  0.000000  0.000000\n",
            "\n",
            "[1100 rows x 50176 columns]\n"
          ],
          "name": "stdout"
        }
      ]
    },
    {
      "cell_type": "code",
      "metadata": {
        "id": "imXtDh8G4JjC",
        "colab": {
          "base_uri": "https://localhost:8080/",
          "height": 255
        },
        "outputId": "c9a2c0a3-4c74-4c5f-dd08-c8371560d293"
      },
      "source": [
        "MergedCovid = pd.concat([ CNNCoviddf ,Coviddf ] ,axis = 1)\n",
        "print(MergedCovid)"
      ],
      "execution_count": null,
      "outputs": [
        {
          "output_type": "stream",
          "text": [
            "            0         1    2         3    4  ...  50171  50172  50173  50174  50175\n",
            "0    0.000066  0.032173  0.0  0.011439  0.0  ...   15.0   -7.5   -4.0   -9.0   17.5\n",
            "1    0.000000  0.000000  0.0  0.000000  0.0  ...    1.0    0.0    0.0    0.0    0.0\n",
            "2    0.000000  0.000000  0.0  0.018216  0.0  ...    0.0    5.5    3.5  -10.5  103.0\n",
            "3    0.000000  0.000000  0.0  0.000000  0.0  ...    0.0    0.0    0.0    0.0    0.0\n",
            "4    0.000000  0.011882  0.0  0.001277  0.0  ...    0.0    0.0    0.0    0.0    0.0\n",
            "..        ...       ...  ...       ...  ...  ...    ...    ...    ...    ...    ...\n",
            "182  0.000000  0.000000  0.0  0.000000  0.0  ...   -4.0   10.5   -4.5   -0.5    8.0\n",
            "183  0.000000  0.000000  0.0  0.000000  0.0  ...  -11.5    3.5   -8.5   -2.0    9.0\n",
            "184  0.000000  0.000000  0.0  0.000000  0.0  ...   -2.5   -1.5   -2.0   -3.0    9.0\n",
            "185  0.000000  0.000000  0.0  0.000000  0.0  ...   -1.0    4.0    2.0    1.0    0.5\n",
            "186  0.000000  0.000000  0.0  0.000000  0.0  ...   -1.5    0.0    0.0    0.0    0.0\n",
            "\n",
            "[187 rows x 100352 columns]\n"
          ],
          "name": "stdout"
        }
      ]
    },
    {
      "cell_type": "code",
      "metadata": {
        "id": "i5ns0Yh0CDyL",
        "colab": {
          "base_uri": "https://localhost:8080/",
          "height": 255
        },
        "outputId": "291cbd1e-c6b5-40c8-fc4c-dfca0e1b6920"
      },
      "source": [
        "MergedNormal = pd.concat([ CNNNormaldf ,Normaldf ] ,axis = 1)\n",
        "print(MergedNormal)"
      ],
      "execution_count": null,
      "outputs": [
        {
          "output_type": "stream",
          "text": [
            "             0    1         2  ...  50173         50174  50175\n",
            "0     0.000000  0.0  0.000000  ...    0.0  5.000000e-01    0.5\n",
            "1     0.000000  0.0  0.000000  ...    0.0  1.110223e-16    0.0\n",
            "2     0.000000  0.0  0.000000  ...   -0.5  5.000000e-01    1.0\n",
            "3     0.000698  0.0  0.000000  ...   18.5  8.000000e+00   30.5\n",
            "4     0.000000  0.0  0.000000  ...    0.5  5.000000e-01    0.0\n",
            "...        ...  ...       ...  ...    ...           ...    ...\n",
            "1095  0.000000  0.0  0.000000  ...    0.0  0.000000e+00    0.0\n",
            "1096  0.000000  0.0  0.014787  ...    0.0  0.000000e+00    0.0\n",
            "1097  0.000000  0.0  0.000000  ...    0.0  0.000000e+00    0.0\n",
            "1098  0.000000  0.0  0.000000  ...    0.0  0.000000e+00    0.0\n",
            "1099  0.000000  0.0  0.000000  ...    0.0  0.000000e+00    0.0\n",
            "\n",
            "[1100 rows x 100352 columns]\n"
          ],
          "name": "stdout"
        }
      ]
    },
    {
      "cell_type": "code",
      "metadata": {
        "id": "e7OlY2CyClLr"
      },
      "source": [
        "folder = glob.glob('/content/drive/My Drive/final_dataset/covid/*')\n",
        "label = os.path.basename('/content/drive/My Drive/final_dataset/covid')\n",
        "covidlabels =[]\n",
        "for k in range(len(folder)):\n",
        "  covidlabels.append(label)"
      ],
      "execution_count": null,
      "outputs": []
    },
    {
      "cell_type": "code",
      "metadata": {
        "id": "885KbO24UrWm"
      },
      "source": [
        "folder = glob.glob('/content/drive/My Drive/final_dataset/normal/*')\n",
        "label = os.path.basename('/content/drive/My Drive/final_dataset/normal')\n",
        "normallabels =[]\n",
        "for k in range(len(folder)):\n",
        "  normallabels.append(label)"
      ],
      "execution_count": null,
      "outputs": []
    },
    {
      "cell_type": "code",
      "metadata": {
        "id": "EY7VlJqgbcbF",
        "colab": {
          "base_uri": "https://localhost:8080/",
          "height": 255
        },
        "outputId": "56092b48-4f6f-4060-d5cb-309cdb172d79"
      },
      "source": [
        "MergedCovid ['Label'] =  covidlabels\n",
        "print(MergedCovid)"
      ],
      "execution_count": null,
      "outputs": [
        {
          "output_type": "stream",
          "text": [
            "            0         1    2         3    4  ...  50172  50173  50174  50175  Label\n",
            "0    0.000066  0.032173  0.0  0.011439  0.0  ...   -7.5   -4.0   -9.0   17.5  covid\n",
            "1    0.000000  0.000000  0.0  0.000000  0.0  ...    0.0    0.0    0.0    0.0  covid\n",
            "2    0.000000  0.000000  0.0  0.018216  0.0  ...    5.5    3.5  -10.5  103.0  covid\n",
            "3    0.000000  0.000000  0.0  0.000000  0.0  ...    0.0    0.0    0.0    0.0  covid\n",
            "4    0.000000  0.011882  0.0  0.001277  0.0  ...    0.0    0.0    0.0    0.0  covid\n",
            "..        ...       ...  ...       ...  ...  ...    ...    ...    ...    ...    ...\n",
            "182  0.000000  0.000000  0.0  0.000000  0.0  ...   10.5   -4.5   -0.5    8.0  covid\n",
            "183  0.000000  0.000000  0.0  0.000000  0.0  ...    3.5   -8.5   -2.0    9.0  covid\n",
            "184  0.000000  0.000000  0.0  0.000000  0.0  ...   -1.5   -2.0   -3.0    9.0  covid\n",
            "185  0.000000  0.000000  0.0  0.000000  0.0  ...    4.0    2.0    1.0    0.5  covid\n",
            "186  0.000000  0.000000  0.0  0.000000  0.0  ...    0.0    0.0    0.0    0.0  covid\n",
            "\n",
            "[187 rows x 100353 columns]\n"
          ],
          "name": "stdout"
        }
      ]
    },
    {
      "cell_type": "code",
      "metadata": {
        "id": "VCvy-WUpiusJ",
        "colab": {
          "base_uri": "https://localhost:8080/",
          "height": 255
        },
        "outputId": "8bc5b8cb-1eae-472c-f2ce-e3c4358287ca"
      },
      "source": [
        "MergedNormal ['Label'] =  normallabels\n",
        "print(MergedNormal)"
      ],
      "execution_count": null,
      "outputs": [
        {
          "output_type": "stream",
          "text": [
            "             0    1         2         3  ...  50173         50174  50175   Label\n",
            "0     0.000000  0.0  0.000000  0.000000  ...    0.0  5.000000e-01    0.5  normal\n",
            "1     0.000000  0.0  0.000000  0.007448  ...    0.0  1.110223e-16    0.0  normal\n",
            "2     0.000000  0.0  0.000000  0.000000  ...   -0.5  5.000000e-01    1.0  normal\n",
            "3     0.000698  0.0  0.000000  0.009772  ...   18.5  8.000000e+00   30.5  normal\n",
            "4     0.000000  0.0  0.000000  0.000094  ...    0.5  5.000000e-01    0.0  normal\n",
            "...        ...  ...       ...       ...  ...    ...           ...    ...     ...\n",
            "1095  0.000000  0.0  0.000000  0.000000  ...    0.0  0.000000e+00    0.0  normal\n",
            "1096  0.000000  0.0  0.014787  0.000000  ...    0.0  0.000000e+00    0.0  normal\n",
            "1097  0.000000  0.0  0.000000  0.000000  ...    0.0  0.000000e+00    0.0  normal\n",
            "1098  0.000000  0.0  0.000000  0.000000  ...    0.0  0.000000e+00    0.0  normal\n",
            "1099  0.000000  0.0  0.000000  0.000000  ...    0.0  0.000000e+00    0.0  normal\n",
            "\n",
            "[1100 rows x 100353 columns]\n"
          ],
          "name": "stdout"
        }
      ]
    },
    {
      "cell_type": "code",
      "metadata": {
        "id": "08XcBJMJi_gx",
        "colab": {
          "base_uri": "https://localhost:8080/",
          "height": 255
        },
        "outputId": "be59fcb8-9138-426b-d85e-30702c029266"
      },
      "source": [
        "TotalDataset = pd.concat([MergedCovid ,MergedNormal])\n",
        "print(TotalDataset)"
      ],
      "execution_count": null,
      "outputs": [
        {
          "output_type": "stream",
          "text": [
            "             0         1         2         3  ...  50173  50174  50175   Label\n",
            "0     0.000066  0.032173  0.000000  0.011439  ...   -4.0   -9.0   17.5   covid\n",
            "1     0.000000  0.000000  0.000000  0.000000  ...    0.0    0.0    0.0   covid\n",
            "2     0.000000  0.000000  0.000000  0.018216  ...    3.5  -10.5  103.0   covid\n",
            "3     0.000000  0.000000  0.000000  0.000000  ...    0.0    0.0    0.0   covid\n",
            "4     0.000000  0.011882  0.000000  0.001277  ...    0.0    0.0    0.0   covid\n",
            "...        ...       ...       ...       ...  ...    ...    ...    ...     ...\n",
            "1095  0.000000  0.000000  0.000000  0.000000  ...    0.0    0.0    0.0  normal\n",
            "1096  0.000000  0.000000  0.014787  0.000000  ...    0.0    0.0    0.0  normal\n",
            "1097  0.000000  0.000000  0.000000  0.000000  ...    0.0    0.0    0.0  normal\n",
            "1098  0.000000  0.000000  0.000000  0.000000  ...    0.0    0.0    0.0  normal\n",
            "1099  0.000000  0.000000  0.000000  0.000000  ...    0.0    0.0    0.0  normal\n",
            "\n",
            "[1287 rows x 100353 columns]\n"
          ],
          "name": "stdout"
        }
      ]
    },
    {
      "cell_type": "code",
      "metadata": {
        "id": "ZjHUFMa7lh7P",
        "colab": {
          "base_uri": "https://localhost:8080/",
          "height": 221
        },
        "outputId": "580b6d07-1aa0-4632-8094-df503eb4e53d"
      },
      "source": [
        "labelencoder = LabelEncoder()\n",
        "# Assigning numerical values and storing in another column\n",
        "TotalDataset['Label_Numerical'] = labelencoder.fit_transform(TotalDataset['Label'])\n",
        "print(TotalDataset['Label_Numerical'])"
      ],
      "execution_count": null,
      "outputs": [
        {
          "output_type": "stream",
          "text": [
            "0       0\n",
            "1       0\n",
            "2       0\n",
            "3       0\n",
            "4       0\n",
            "       ..\n",
            "1095    1\n",
            "1096    1\n",
            "1097    1\n",
            "1098    1\n",
            "1099    1\n",
            "Name: Label_Numerical, Length: 1287, dtype: int64\n"
          ],
          "name": "stdout"
        }
      ]
    },
    {
      "cell_type": "code",
      "metadata": {
        "id": "dcspQHgUqczc",
        "colab": {
          "base_uri": "https://localhost:8080/",
          "height": 255
        },
        "outputId": "b8f5faa2-bd78-4a09-ac70-093a7d6527ef"
      },
      "source": [
        "TotalDataset = shuffle(TotalDataset)\n",
        "print(TotalDataset)"
      ],
      "execution_count": null,
      "outputs": [
        {
          "output_type": "stream",
          "text": [
            "        0         1         2    3  ...  50174  50175   Label  Label_Numerical\n",
            "28    0.0  0.000000  0.000000  0.0  ...    0.5    1.0   covid                0\n",
            "435   0.0  0.000000  0.000000  0.0  ...    0.0    0.0  normal                1\n",
            "926   0.0  0.000000  0.016649  0.0  ...    0.0    0.0  normal                1\n",
            "847   0.0  0.011638  0.000000  0.0  ...    0.0    0.0  normal                1\n",
            "430   0.0  0.000000  0.000000  0.0  ...    0.0    0.0  normal                1\n",
            "...   ...       ...       ...  ...  ...    ...    ...     ...              ...\n",
            "66    0.0  0.000000  0.000000  0.0  ...   -0.5    2.5   covid                0\n",
            "227   0.0  0.018174  0.000000  0.0  ...    0.0    0.5  normal                1\n",
            "1099  0.0  0.000000  0.000000  0.0  ...    0.0    0.0  normal                1\n",
            "67    0.0  0.000000  0.000000  0.0  ...   -5.5   32.5   covid                0\n",
            "156   0.0  0.000000  0.000000  0.0  ...    0.0    1.5   covid                0\n",
            "\n",
            "[1287 rows x 100354 columns]\n"
          ],
          "name": "stdout"
        }
      ]
    },
    {
      "cell_type": "code",
      "metadata": {
        "id": "rHKHXMj0U5A_"
      },
      "source": [
        "Featuredf = TotalDataset.drop(['Label','Label_Numerical'], axis=1)\n",
        "\n",
        "Targetclass = TotalDataset['Label_Numerical']"
      ],
      "execution_count": null,
      "outputs": []
    },
    {
      "cell_type": "code",
      "metadata": {
        "id": "Ky2LeQKTYaD6",
        "colab": {
          "base_uri": "https://localhost:8080/",
          "height": 255
        },
        "outputId": "56fc406d-ed08-4c4a-a5f3-bc94d204aeec"
      },
      "source": [
        "print(Featuredf)"
      ],
      "execution_count": null,
      "outputs": [
        {
          "output_type": "stream",
          "text": [
            "        0         1         2    3    4  ...  50171  50172  50173  50174  50175\n",
            "28    0.0  0.000000  0.000000  0.0  0.0  ...    0.0    1.0    3.0    0.5    1.0\n",
            "435   0.0  0.000000  0.000000  0.0  0.0  ...    0.5    0.0    0.0    0.0    0.0\n",
            "926   0.0  0.000000  0.016649  0.0  0.0  ...    0.5    1.0   -0.5    0.0    0.0\n",
            "847   0.0  0.011638  0.000000  0.0  0.0  ...   -3.0    0.5    0.0    0.0    0.0\n",
            "430   0.0  0.000000  0.000000  0.0  0.0  ...    0.0    0.0    0.0    0.0    0.0\n",
            "...   ...       ...       ...  ...  ...  ...    ...    ...    ...    ...    ...\n",
            "66    0.0  0.000000  0.000000  0.0  0.0  ...    0.5   -0.5    0.5   -0.5    2.5\n",
            "227   0.0  0.018174  0.000000  0.0  0.0  ...    1.0    0.0    0.0    0.0    0.5\n",
            "1099  0.0  0.000000  0.000000  0.0  0.0  ...    3.0    0.0    0.0    0.0    0.0\n",
            "67    0.0  0.000000  0.000000  0.0  0.0  ...    4.0  -22.0    0.0   -5.5   32.5\n",
            "156   0.0  0.000000  0.000000  0.0  0.0  ...    0.0   -0.5    1.0    0.0    1.5\n",
            "\n",
            "[1287 rows x 100352 columns]\n"
          ],
          "name": "stdout"
        }
      ]
    },
    {
      "cell_type": "code",
      "metadata": {
        "id": "mPxzeqK8YZ8p",
        "colab": {
          "base_uri": "https://localhost:8080/",
          "height": 221
        },
        "outputId": "b8f5a10e-3f46-4027-8244-9bbcf4977246"
      },
      "source": [
        "print(Targetclass)"
      ],
      "execution_count": null,
      "outputs": [
        {
          "output_type": "stream",
          "text": [
            "28      0\n",
            "435     1\n",
            "926     1\n",
            "847     1\n",
            "430     1\n",
            "       ..\n",
            "66      0\n",
            "227     1\n",
            "1099    1\n",
            "67      0\n",
            "156     0\n",
            "Name: Label_Numerical, Length: 1287, dtype: int64\n"
          ],
          "name": "stdout"
        }
      ]
    },
    {
      "cell_type": "code",
      "metadata": {
        "id": "RzBWbSlEY5Ce"
      },
      "source": [
        "from sklearn.model_selection import train_test_split\n",
        "\n",
        "X_train, X_test, y_train, y_test = train_test_split(Featuredf,Targetclass, test_size = 0.2, random_state = 0)"
      ],
      "execution_count": null,
      "outputs": []
    },
    {
      "cell_type": "code",
      "metadata": {
        "id": "pWb8cl8WZblj",
        "colab": {
          "base_uri": "https://localhost:8080/",
          "height": 34
        },
        "outputId": "c81c0222-800d-4a65-fc42-509761aabb36"
      },
      "source": [
        "# check the shape of X_train and X_test\n",
        "\n",
        "X_train.shape, X_test.shape"
      ],
      "execution_count": null,
      "outputs": [
        {
          "output_type": "execute_result",
          "data": {
            "text/plain": [
              "((1029, 100352), (258, 100352))"
            ]
          },
          "metadata": {
            "tags": []
          },
          "execution_count": 69
        }
      ]
    },
    {
      "cell_type": "code",
      "metadata": {
        "id": "LKlewEh5ZhAP",
        "colab": {
          "base_uri": "https://localhost:8080/",
          "height": 102
        },
        "outputId": "a15eb5c9-79ce-4d0f-c895-9c42c01d1a64"
      },
      "source": [
        "cols = X_train.columns\n",
        "print(cols)"
      ],
      "execution_count": null,
      "outputs": [
        {
          "output_type": "stream",
          "text": [
            "Index(['0', '1', '2', '3', '4', '5', '6', '7', '8', '9',\n",
            "       ...\n",
            "       '50166', '50167', '50168', '50169', '50170', '50171', '50172', '50173',\n",
            "       '50174', '50175'],\n",
            "      dtype='object', length=100352)\n"
          ],
          "name": "stdout"
        }
      ]
    },
    {
      "cell_type": "code",
      "metadata": {
        "id": "t7KyOE7Hm1oV"
      },
      "source": [
        "scaler = StandardScaler()\n",
        "X_train = scaler.fit_transform(X_train)\n",
        "\n",
        "X_test = scaler.transform(X_test)\n",
        "X_train = pd.DataFrame(X_train, columns=[cols])\n",
        "X_test = pd.DataFrame(X_test, columns=[cols])\n",
        "# scaler = MinMaxScaler()\n",
        "# X_train = scaler.fit_transform(X_train)\n",
        "# X_test = scaler.transform(X_test)"
      ],
      "execution_count": null,
      "outputs": []
    },
    {
      "cell_type": "code",
      "metadata": {
        "id": "h2v51sIah6hm",
        "colab": {
          "base_uri": "https://localhost:8080/",
          "height": 34
        },
        "outputId": "aef915b5-3d35-4b33-f3b0-cb41713eb037"
      },
      "source": [
        "from sklearn.linear_model import SGDClassifier\n",
        "#SGD = SGDClassifier(alpha = 0.1 ,loss=\"log\", penalty=\"l2\",max_iter =1000,n_jobs =-1)\n",
        "SGD =SGDClassifier(alpha = 0.1,loss=\"log\", penalty=\"l2\",max_iter =1000)\n",
        "#SGD =SGDClassifier(loss=\"hinge\", penalty=\"l2\", max_iter=5)\n",
        "SGD.fit(X_train,y_train)\n",
        "y_pred= SGD.predict(X_test)\n",
        "print(\"Accuracy score (validation): {0:.6f}\".format(accuracy_score(y_test,y_pred)))"
      ],
      "execution_count": null,
      "outputs": [
        {
          "output_type": "stream",
          "text": [
            "Accuracy score (validation): 0.996124\n"
          ],
          "name": "stdout"
        }
      ]
    },
    {
      "cell_type": "code",
      "metadata": {
        "id": "GujhzFahOFy8",
        "colab": {
          "base_uri": "https://localhost:8080/",
          "height": 34
        },
        "outputId": "639b09dd-a3f3-45fb-eaca-811377a47494"
      },
      "source": [
        " from sklearn.neural_network import MLPClassifier\n",
        " clf = MLPClassifier(solver='lbfgs',activation = 'logistic', random_state=1)\n",
        "\n",
        " clf.fit(X_train,y_train)\n",
        " y_pred= clf.predict(X_test)\n",
        " print(\"Accuracy score (validation): {0:.6f}\".format(accuracy_score(y_test,y_pred)))"
      ],
      "execution_count": null,
      "outputs": [
        {
          "output_type": "stream",
          "text": [
            "Accuracy score (validation): 1.000000\n"
          ],
          "name": "stdout"
        }
      ]
    },
    {
      "cell_type": "code",
      "metadata": {
        "id": "aYA10gs_MZmM",
        "colab": {
          "base_uri": "https://localhost:8080/",
          "height": 34
        },
        "outputId": "8f0c3e2d-e415-4bc4-8846-d8e67066d3e1"
      },
      "source": [
        "from sklearn.linear_model import LogisticRegression\n",
        "logreg = LogisticRegression()\n",
        "logreg.fit(X_train,y_train)\n",
        "y_pred=logreg.predict(X_test)\n",
        "print(\"Accuracy score (validation): {0:.6f}\".format(accuracy_score(y_test,y_pred)))"
      ],
      "execution_count": null,
      "outputs": [
        {
          "output_type": "stream",
          "text": [
            "Accuracy score (validation): 1.000000\n"
          ],
          "name": "stdout"
        }
      ]
    },
    {
      "cell_type": "code",
      "metadata": {
        "id": "FM5xKlbj7MxK",
        "colab": {
          "base_uri": "https://localhost:8080/",
          "height": 34
        },
        "outputId": "bd9178f3-d019-4e42-8d5c-487aa4769d8c"
      },
      "source": [
        "from xgboost import XGBClassifier\n",
        "xgb_clf = XGBClassifier()\n",
        "xgb_clf.fit(X_train, y_train)\n",
        "y_pred = xgb_clf.predict(X_test)\n",
        "print(\"Accuracy score (validation): {0:.6f}\".format(accuracy_score(y_test,y_pred)))"
      ],
      "execution_count": null,
      "outputs": [
        {
          "output_type": "stream",
          "text": [
            "Accuracy score (validation): 0.988372\n"
          ],
          "name": "stdout"
        }
      ]
    },
    {
      "cell_type": "code",
      "metadata": {
        "id": "DYp2AG01osVE"
      },
      "source": [
        "lr_list = [0.05, 0.075, 0.1, 0.25, 0.5, 0.75, 1]\n",
        "\n",
        "for learning_rate in lr_list:\n",
        "    gb_clf = GradientBoostingClassifier(n_estimators=20, learning_rate=learning_rate, max_features=2, max_depth=2, random_state=0)\n",
        "    gb_clf.fit(X_train, y_train)\n",
        "    y_pred = gb_clf.predict(X_test)\n",
        "    print(\"Learning rate: \", learning_rate)\n",
        "    # print(\"Accuracy score (training): {0:.3f}\".format(gb_clf.score(X_train, y_train)))\n",
        "    print(\"Accuracy score (validation): {0:.3f}\".format(accuracy_score(y_test,y_pred)))"
      ],
      "execution_count": null,
      "outputs": []
    },
    {
      "cell_type": "code",
      "metadata": {
        "id": "vqTMS6parIMN",
        "colab": {
          "base_uri": "https://localhost:8080/",
          "height": 34
        },
        "outputId": "11a17486-158b-4afe-c740-0fe777746e5a"
      },
      "source": [
        "gb_clf = GradientBoostingClassifier(n_estimators=10, learning_rate=1,  max_depth=3, random_state=0)\n",
        "gb_clf.fit(X_train, y_train)\n",
        "y_pred = gb_clf.predict(X_test)\n",
        "print(\"Accuracy score (validation): {0:.6f}\".format(accuracy_score(y_test,y_pred)))\n"
      ],
      "execution_count": null,
      "outputs": [
        {
          "output_type": "stream",
          "text": [
            "Accuracy score (validation): 0.976744\n"
          ],
          "name": "stdout"
        }
      ]
    },
    {
      "cell_type": "code",
      "metadata": {
        "id": "4w24ly0timIA"
      },
      "source": [
        "# pip install --upgrade category_encoders"
      ],
      "execution_count": null,
      "outputs": []
    },
    {
      "cell_type": "code",
      "metadata": {
        "id": "AWrjhLjXaEO_"
      },
      "source": [
        "# # from sklearn.preprocessing import RobustScaler\n",
        "\n",
        "# # # scaler = RobustScaler()\n",
        "# # import category encoders\n",
        "\n",
        "# import category_encoders as ce\n",
        "# # encode categorical variables with ordinal encoding\n",
        "\n",
        "# encoder = ce.OrdinalEncoder(cols)\n",
        "\n",
        "\n",
        "# X_train = encoder.fit_transform(X_train)\n",
        "\n",
        "# X_test = encoder.transform(X_test)\n",
        "\n",
        "# # X_train = scaler.fit_transform(X_train)\n",
        "\n",
        "# # X_test = scaler.transform(X_test)"
      ],
      "execution_count": null,
      "outputs": []
    },
    {
      "cell_type": "code",
      "metadata": {
        "id": "7VJAwcybaGCf"
      },
      "source": [
        "# X_train = pd.DataFrame(X_train, columns=[cols])"
      ],
      "execution_count": null,
      "outputs": []
    },
    {
      "cell_type": "code",
      "metadata": {
        "id": "CHR1Zk07aMak"
      },
      "source": [
        "# X_test = pd.DataFrame(X_test, columns=[cols])"
      ],
      "execution_count": null,
      "outputs": []
    },
    {
      "cell_type": "code",
      "metadata": {
        "id": "6375Boy4aNjf"
      },
      "source": [
        "# X_train.describe()"
      ],
      "execution_count": null,
      "outputs": []
    },
    {
      "cell_type": "code",
      "metadata": {
        "id": "MBkRG95em_ze"
      },
      "source": [],
      "execution_count": null,
      "outputs": []
    },
    {
      "cell_type": "code",
      "metadata": {
        "id": "4WUdAQUN-AEG",
        "colab": {
          "base_uri": "https://localhost:8080/",
          "height": 34
        },
        "outputId": "26f76332-1bda-4b8d-9226-6d41792cd6f6"
      },
      "source": [
        "# # import DecisionTreeClassifier\n",
        "\n",
        "# from sklearn.tree import DecisionTreeClassifier\n",
        "\n",
        "# clf_gini = DecisionTreeClassifier(criterion='gini', max_depth=5, random_state=0)\n",
        "\n",
        "\n",
        "# # fit the model\n",
        "# clf_gini.fit(X_train, y_train)\n",
        "# y_pred_gini = clf_gini.predict(X_test)\n",
        "# from sklearn.metrics import accuracy_score\n",
        "\n",
        "# print('Model accuracy score with criterion gini index: {0:0.6f}'. format(accuracy_score(y_test, y_pred_gini)))"
      ],
      "execution_count": null,
      "outputs": [
        {
          "output_type": "stream",
          "text": [
            "Model accuracy score with criterion gini index: 0.965116\n"
          ],
          "name": "stdout"
        }
      ]
    },
    {
      "cell_type": "code",
      "metadata": {
        "id": "aBbPN0Nbgvr6"
      },
      "source": [
        "# # import Random Forest classifier\n",
        "\n",
        "# from sklearn.ensemble import RandomForestClassifier\n",
        "\n",
        "\n",
        "\n",
        "# # instantiate the classifier \n",
        "\n",
        "# rfc = RandomForestClassifier(n_estimators=100 ,random_state=0)\n",
        "\n",
        "\n",
        "\n",
        "# # fit the model\n",
        "\n",
        "# rfc.fit(X_train, y_train)\n",
        "\n",
        "\n",
        "\n",
        "# # Predict the Test set results\n",
        "\n",
        "# y_pred = rfc.predict(X_test)\n",
        "\n",
        "\n",
        "\n",
        "# # Check accuracy score \n",
        "\n",
        "# from sklearn.metrics import accuracy_score\n",
        "\n",
        "# print('Model accuracy score with 10 decision-trees : {0:0.6f}'. format(accuracy_score(y_test, y_pred)))"
      ],
      "execution_count": null,
      "outputs": []
    },
    {
      "cell_type": "code",
      "metadata": {
        "id": "_8pdC8m4jqcz"
      },
      "source": [
        "# # create the classifier with n_estimators = 100\n",
        "\n",
        "# clf = RandomForestClassifier(n_estimators=100, random_state=0)\n",
        "\n",
        "\n",
        "\n",
        "# # fit the model to the training set\n",
        "\n",
        "# clf.fit(X_train, y_train)"
      ],
      "execution_count": null,
      "outputs": []
    },
    {
      "cell_type": "code",
      "metadata": {
        "id": "nodm0i2gkQxj"
      },
      "source": [
        "# view the feature scores\n",
        "\n",
        "# feature_scores = pd.Series(clf.feature_importances_, index=X_train.columns).sort_values(ascending=False)\n",
        "# print(feature_scores.iloc[feature_scores.index])\n",
        "# p = str(feature_scores.index)"
      ],
      "execution_count": null,
      "outputs": []
    },
    {
      "cell_type": "code",
      "metadata": {
        "id": "jN1UyjRLsaaM",
        "colab": {
          "base_uri": "https://localhost:8080/",
          "height": 119
        },
        "outputId": "943b3e5e-b7db-4c2a-f4f6-0f901a2bd524"
      },
      "source": [
        "# feature_scores.index"
      ],
      "execution_count": null,
      "outputs": [
        {
          "output_type": "execute_result",
          "data": {
            "text/plain": [
              "Index(['42249', '42216', '36606', '35264', '42045', '44354', '37096', '29435',\n",
              "       '35086', '41192',\n",
              "       ...\n",
              "       '16594', '16595', '16596', '16597', '16598', '16599', '16600', '16601',\n",
              "       '16602', '0'],\n",
              "      dtype='object', length=100352)"
            ]
          },
          "metadata": {
            "tags": []
          },
          "execution_count": 80
        }
      ]
    },
    {
      "cell_type": "code",
      "metadata": {
        "id": "GnQA4vBekUj4"
      },
      "source": [
        "# # Creating a seaborn bar plot\n",
        "\n",
        "# # sns.barplot(x =feature_scores,y = feature_scores[feature_scores.index] )\n",
        "\n",
        "\n",
        "\n",
        "# # # Add labels to the graph\n",
        "\n",
        "# plt.xlabel('Feature Importance Score')\n",
        "\n",
        "# plt.ylabel('Features')\n",
        "\n",
        "\n",
        "\n",
        "# # # Add title to the graph\n",
        "\n",
        "# plt.title(\"Visualizing Important Features\")\n",
        "\n",
        "\n",
        "\n",
        "# # # Visualize the graph\n",
        "\n",
        "# plt.show()"
      ],
      "execution_count": null,
      "outputs": []
    },
    {
      "cell_type": "code",
      "metadata": {
        "id": "bpDJ4uI4U73U",
        "colab": {
          "base_uri": "https://localhost:8080/",
          "height": 34
        },
        "outputId": "76b0fbbf-a5eb-48fe-b9ba-c46da95031b3"
      },
      "source": [
        "# # # train a Gaussian Naive Bayes classifier on the training set\n",
        "# # from sklearn.naive_bayes import GaussianNB\n",
        "\n",
        "\n",
        "# # # instantiate the model\n",
        "# # gnb = GaussianNB()\n",
        "\n",
        "\n",
        "# # # fit the model\n",
        "# gnb.fit(X_train, y_train)"
      ],
      "execution_count": null,
      "outputs": [
        {
          "output_type": "execute_result",
          "data": {
            "text/plain": [
              "GaussianNB(priors=None, var_smoothing=1e-09)"
            ]
          },
          "metadata": {
            "tags": []
          },
          "execution_count": 29
        }
      ]
    },
    {
      "cell_type": "code",
      "metadata": {
        "id": "1uNpl72lbNLV"
      },
      "source": [
        "# # import KNeighbors ClaSSifier from sklearn\n",
        "# from sklearn.neighbors import KNeighborsClassifier\n",
        "\n",
        "\n",
        "# # instantiate the model\n",
        "# knn = KNeighborsClassifier(n_neighbors=3)\n",
        "\n",
        "\n",
        "# # fit the model to the training set\n",
        "# knn.fit(X_train, y_train)"
      ],
      "execution_count": null,
      "outputs": []
    },
    {
      "cell_type": "code",
      "metadata": {
        "id": "pSX_gUng1mjN"
      },
      "source": [],
      "execution_count": null,
      "outputs": []
    },
    {
      "cell_type": "code",
      "metadata": {
        "id": "iikDf8xG1nIj",
        "colab": {
          "base_uri": "https://localhost:8080/",
          "height": 34
        },
        "outputId": "b5abcb8b-7172-4e3b-cac7-5c1a5d09f5cd"
      },
      "source": [
        "from sklearn.metrics import accuracy_score\n",
        "\n",
        "print('Model accuracy score with criterion gini index: {0:0.4f}'. format(accuracy_score(y_test, y_pred_gini)))"
      ],
      "execution_count": null,
      "outputs": [
        {
          "output_type": "stream",
          "text": [
            "Model accuracy score: 0.817829\n"
          ],
          "name": "stdout"
        }
      ]
    },
    {
      "cell_type": "code",
      "metadata": {
        "id": "GZlsDgde1Igy",
        "colab": {
          "base_uri": "https://localhost:8080/",
          "height": 34
        },
        "outputId": "42959363-2a61-440c-e736-bcbc9f331f1e"
      },
      "source": [
        "####SVM final\n",
        "# # instantiate classifier with sigmoid kernel and C=100.0\n",
        "# sigmoid_svc1=SVC(kernel='sigmoid', C=1.0) \n",
        "\n",
        "\n",
        "# # fit classifier to training set\n",
        "# sigmoid_svc1.fit(X_train,y_train)\n",
        "\n",
        "\n",
        "# # make predictions on test set\n",
        "# y_pred=sigmoid_svc1.predict(X_test)\n",
        "\n",
        "\n",
        "# # compute and print accuracy score\n",
        "# print('Model accuracy score with sigmoid kernel and C=1.0 : {0:0.6f}'. format(accuracy_score(y_test, y_pred)))"
      ],
      "execution_count": null,
      "outputs": [
        {
          "output_type": "stream",
          "text": [
            "Model accuracy score with sigmoid kernel and C=1.0 : 1.000000\n"
          ],
          "name": "stdout"
        }
      ]
    },
    {
      "cell_type": "code",
      "metadata": {
        "id": "IyT7DPxO1PlO"
      },
      "source": [],
      "execution_count": null,
      "outputs": []
    },
    {
      "cell_type": "code",
      "metadata": {
        "id": "-Y3ZkP9_ufJU",
        "colab": {
          "base_uri": "https://localhost:8080/",
          "height": 136
        },
        "outputId": "37a7fb5f-0302-4fc2-a073-86666ec9f532"
      },
      "source": [
        "print(y_pred)"
      ],
      "execution_count": null,
      "outputs": [
        {
          "output_type": "stream",
          "text": [
            "[1 1 0 1 1 0 1 1 1 1 1 0 1 1 1 1 1 1 1 1 1 1 1 1 1 0 1 0 1 1 0 1 1 1 1 1 1\n",
            " 1 1 1 1 1 0 1 1 1 1 1 1 1 1 1 0 1 1 1 1 1 1 1 1 1 1 1 1 0 1 0 1 1 1 1 0 1\n",
            " 0 1 1 1 1 1 1 1 1 1 1 1 1 0 1 1 1 1 1 0 0 1 0 1 1 1 1 1 1 1 1 0 1 1 1 1 1\n",
            " 1 1 1 1 1 1 1 1 1 0 1 1 1 1 1 1 1 0 0 1 1 1 1 0 1 1 1 1 1 1 1 1 1 1 1 1 1\n",
            " 0 1 1 1 1 1 1 1 1 0 1 1 1 1 1 1 1 0 1 1 1 1 1 1 1 1 1 1 1 1 1 1 1 0 1 1 0\n",
            " 1 1 1 1 1 1 1 1 0 1 1 1 1 1 1 1 1 0 1 1 1 1 0 1 1 0 1 0 0 0 1 1 1 1 1 0 1\n",
            " 1 1 1 0 1 1 1 1 1 1 1 1 1 1 1 1 0 1 1 0 1 1 1 1 1 1 1 1 1 0 1 1 1 1 1 1]\n"
          ],
          "name": "stdout"
        }
      ]
    },
    {
      "cell_type": "code",
      "metadata": {
        "id": "CElUbTnCi4WS",
        "colab": {
          "base_uri": "https://localhost:8080/",
          "height": 34
        },
        "outputId": "d6fc4479-f038-455e-e000-976d29eddd65"
      },
      "source": [
        "y_pred_train = sigmoid_svc1.predict(X_train)\n",
        "\n",
        "y_pred_train"
      ],
      "execution_count": null,
      "outputs": [
        {
          "output_type": "execute_result",
          "data": {
            "text/plain": [
              "array([0, 1, 1, ..., 1, 0, 1])"
            ]
          },
          "metadata": {
            "tags": []
          },
          "execution_count": 58
        }
      ]
    },
    {
      "cell_type": "code",
      "metadata": {
        "id": "umxVLgPBkW1e",
        "colab": {
          "base_uri": "https://localhost:8080/",
          "height": 34
        },
        "outputId": "a1fb948f-d782-4f9b-911e-1ecf891261ce"
      },
      "source": [
        "print('Training-set accuracy score: {0:0.6f}'. format(accuracy_score(y_train, y_pred_train)))\n"
      ],
      "execution_count": null,
      "outputs": [
        {
          "output_type": "stream",
          "text": [
            "Training-set accuracy score: 0.999028\n"
          ],
          "name": "stdout"
        }
      ]
    },
    {
      "cell_type": "code",
      "metadata": {
        "id": "xrDXk3IZkdHk",
        "colab": {
          "base_uri": "https://localhost:8080/",
          "height": 51
        },
        "outputId": "0838647e-f5c5-4ddb-f818-5161d5979fb9"
      },
      "source": [
        "\n",
        "print('Training set score: {:.6f}'.format(sigmoid_svc1.score(X_train, y_train)))\n",
        "\n",
        "print('Test set score: {:.6f}'.format(sigmoid_svc1.score(X_test, y_test)))"
      ],
      "execution_count": null,
      "outputs": [
        {
          "output_type": "stream",
          "text": [
            "Training set score: 0.999028\n",
            "Test set score: 1.000000\n"
          ],
          "name": "stdout"
        }
      ]
    },
    {
      "cell_type": "code",
      "metadata": {
        "id": "a6skFe8xr53l",
        "colab": {
          "base_uri": "https://localhost:8080/",
          "height": 221
        },
        "outputId": "d2fde8dc-0449-4779-b692-338fc948f1d9"
      },
      "source": [
        "# Print the Confusion Matrix and slice it into four pieces\n",
        "\n",
        "from sklearn.metrics import confusion_matrix\n",
        "\n",
        "cm = confusion_matrix(y_test , y_pred)\n",
        "\n",
        "print('Confusion matrix\\n\\n', cm)\n",
        "\n",
        "print('\\nTrue Positives(TP) = ', cm[0,0])\n",
        "\n",
        "print('\\nTrue Negatives(TN) = ', cm[1,1])\n",
        "\n",
        "print('\\nFalse Positives(FP) = ', cm[0,1])\n",
        "\n",
        "print('\\nFalse Negatives(FN) = ', cm[1,0])"
      ],
      "execution_count": null,
      "outputs": [
        {
          "output_type": "stream",
          "text": [
            "Confusion matrix\n",
            "\n",
            " [[ 38   0]\n",
            " [  0 220]]\n",
            "\n",
            "True Positives(TP) =  38\n",
            "\n",
            "True Negatives(TN) =  220\n",
            "\n",
            "False Positives(FP) =  0\n",
            "\n",
            "False Negatives(FN) =  0\n"
          ],
          "name": "stdout"
        }
      ]
    },
    {
      "cell_type": "code",
      "metadata": {
        "id": "L7rs3nWRsMb9",
        "colab": {
          "base_uri": "https://localhost:8080/",
          "height": 282
        },
        "outputId": "d8ab1458-808e-462d-982d-4df05347c4cb"
      },
      "source": [
        "# visualize confusion matrix with seaborn heatmap\n",
        "\n",
        "cm_matrix = pd.DataFrame(data=cm, columns=[' PredCovid:0', 'PredNormal:1'], \n",
        "                                 index=['Actovid:0', 'ActNormal:1'])\n",
        "\n",
        "sns.heatmap(cm_matrix, annot=True, fmt='d', cmap='YlGnBu')"
      ],
      "execution_count": null,
      "outputs": [
        {
          "output_type": "execute_result",
          "data": {
            "text/plain": [
              "<matplotlib.axes._subplots.AxesSubplot at 0x7fdff5776d30>"
            ]
          },
          "metadata": {
            "tags": []
          },
          "execution_count": 78
        },
        {
          "output_type": "display_data",
          "data": {
            "image/png": "[encoded data removed]",
            "text/plain": [
              "<Figure size 432x288 with 2 Axes>"
            ]
          },
          "metadata": {
            "tags": []
          }
        }
      ]
    },
    {
      "cell_type": "code",
      "metadata": {
        "id": "LuKE-Nu6tjrt",
        "colab": {
          "base_uri": "https://localhost:8080/",
          "height": 170
        },
        "outputId": "6475f163-fe85-4ff5-b570-0d1527d64fdd"
      },
      "source": [
        "from sklearn.metrics import classification_report\n",
        "\n",
        "print(classification_report(y_test, y_pred))"
      ],
      "execution_count": null,
      "outputs": [
        {
          "output_type": "stream",
          "text": [
            "              precision    recall  f1-score   support\n",
            "\n",
            "           0       1.00      1.00      1.00        38\n",
            "           1       1.00      1.00      1.00       220\n",
            "\n",
            "    accuracy                           1.00       258\n",
            "   macro avg       1.00      1.00      1.00       258\n",
            "weighted avg       1.00      1.00      1.00       258\n",
            "\n"
          ],
          "name": "stdout"
        }
      ]
    },
    {
      "cell_type": "code",
      "metadata": {
        "id": "Fv8xHCAAt2ZJ",
        "colab": {
          "base_uri": "https://localhost:8080/",
          "height": 34
        },
        "outputId": "b53cf89d-728d-41ad-ed6f-54cd406b1f94"
      },
      "source": [
        "TP = cm[0,0]\n",
        "TN = cm[1,1]\n",
        "FP = cm[0,1]\n",
        "FN = cm[1,0]\n",
        "# print classification accuracy\n",
        "\n",
        "classification_accuracy = (TP + TN) / float(TP + TN + FP + FN)\n",
        "\n",
        "print('Classification accuracy : {0:0.4f}'.format(classification_accuracy))"
      ],
      "execution_count": null,
      "outputs": [
        {
          "output_type": "stream",
          "text": [
            "Classification accuracy : 1.0000\n"
          ],
          "name": "stdout"
        }
      ]
    },
    {
      "cell_type": "code",
      "metadata": {
        "id": "X3K7AQQhu8eS",
        "colab": {
          "base_uri": "https://localhost:8080/",
          "height": 102
        },
        "outputId": "0c739463-d434-492e-97b4-c6787b26d05f"
      },
      "source": [
        "Precision = TP / float(TP + FP)\n",
        "Sensitivity = TP / float(TP + FN)\n",
        "Specificity = TN / (TN + FP)\n",
        "false_positive_rate = FP / float(FP + TN)\n",
        "F1_score = (2*Precision*Sensitivity)/(Precision+Sensitivity)\n",
        "\n",
        "print('Precision : {0:0.6f}'.format(Precision))\n",
        "print('Sensitivity : {0:0.6f}'.format(Sensitivity))\n",
        "print('Specificity : {0:0.6f}'.format(Specificity))\n",
        "print('F1_score : {0:0.6f}'.format(F1_score))\n",
        "print('False Positive Rate : {0:0.6f}'.format(false_positive_rate))"
      ],
      "execution_count": null,
      "outputs": [
        {
          "output_type": "stream",
          "text": [
            "Precision : 1.000000\n",
            "Sensitivity : 1.000000\n",
            "Specificity : 1.000000\n",
            "F1_score : 1.000000\n",
            "False Positive Rate : 0.000000\n"
          ],
          "name": "stdout"
        }
      ]
    },
    {
      "cell_type": "code",
      "metadata": {
        "id": "9FFg6l-03iCL"
      },
      "source": [],
      "execution_count": null,
      "outputs": []
    },
    {
      "cell_type": "code",
      "metadata": {
        "id": "ukOoBqYJzU6F",
        "colab": {
          "base_uri": "https://localhost:8080/",
          "height": 319
        },
        "outputId": "902ee646-36e8-4dba-f99c-47c95200b4cb"
      },
      "source": [
        "# plot ROC Curve\n",
        "# compute ROC AUC\n",
        "\n",
        "from sklearn.metrics import roc_auc_score\n",
        "\n",
        "\n",
        "from sklearn.metrics import roc_curve\n",
        "\n",
        "fpr, tpr, thresholds = roc_curve(y_test, y_pred)\n",
        "\n",
        "ROC_AUC = roc_auc_score(y_test, y_pred)\n",
        "\n",
        "print('ROC AUC : {:.6f}'.format(ROC_AUC))\n",
        "\n",
        "\n",
        "\n",
        "plt.figure(figsize=(6,4))\n",
        "\n",
        "plt.plot(fpr, tpr,color = 'darkorange',label='ROC curve (area = %0.2f)' % ROC_AUC, linewidth=2)\n",
        "\n",
        "plt.plot([0,1], [0,1], 'k--' )\n",
        "\n",
        "plt.rcParams['font.size'] = 12\n",
        "\n",
        "plt.title('ROC curve for Covid19 Detection')\n",
        "\n",
        "plt.xlabel('False Positive Rate (1 - Specificity)')\n",
        "\n",
        "plt.ylabel('True Positive Rate (Sensitivity)')\n",
        "plt.legend(loc=\"lower right\")\n",
        "plt.show()"
      ],
      "execution_count": null,
      "outputs": [
        {
          "output_type": "stream",
          "text": [
            "ROC AUC : 1.000000\n"
          ],
          "name": "stdout"
        },
        {
          "output_type": "display_data",
          "data": {
            "image/png": "[encoded data removed]",
            "text/plain": [
              "<Figure size 432x288 with 1 Axes>"
            ]
          },
          "metadata": {
            "tags": []
          }
        }
      ]
    },
    {
      "cell_type": "code",
      "metadata": {
        "id": "RNZaFIFhzuhM",
        "colab": {
          "base_uri": "https://localhost:8080/",
          "height": 336
        },
        "outputId": "8475df48-b711-4080-b390-a9c3dc017fdc"
      },
      "source": [
        "from sklearn.metrics import average_precision_score\n",
        "average_precision = average_precision_score(y_test, y_pred)\n",
        "\n",
        "print('Average precision-recall score: {0:0.2f}'.format(\n",
        "      average_precision))\n",
        "from sklearn.metrics import precision_recall_curve\n",
        "from sklearn.metrics import plot_precision_recall_curve\n",
        "import matplotlib.pyplot as plt\n",
        "\n",
        "disp = plot_precision_recall_curve(sigmoid_svc1, X_test, y_test)\n",
        "disp.ax_.set_title('2-class Precision-Recall curve: '\n",
        "                   'AP={0:0.2f}'.format(average_precision))"
      ],
      "execution_count": null,
      "outputs": [
        {
          "output_type": "stream",
          "text": [
            "Average precision-recall score: 1.00\n"
          ],
          "name": "stdout"
        },
        {
          "output_type": "execute_result",
          "data": {
            "text/plain": [
              "Text(0.5, 1.0, '2-class Precision-Recall curve: AP=1.00')"
            ]
          },
          "metadata": {
            "tags": []
          },
          "execution_count": 86
        },
        {
          "output_type": "display_data",
          "data": {
            "image/png": "[encoded data removed]",
            "text/plain": [
              "<Figure size 432x288 with 1 Axes>"
            ]
          },
          "metadata": {
            "tags": []
          }
        }
      ]
    },
    {
      "cell_type": "code",
      "metadata": {
        "id": "lopfOX8Izzkk"
      },
      "source": [
        "from sklearn.model_selection import KFold\n",
        "from sklearn.model_selection import cross_val_score\n",
        "\n",
        "kfold=KFold(n_splits=5, shuffle=True, random_state=0)\n",
        "\n",
        "\n",
        "sigmoid_svcKfold=SVC(kernel='sigmoid', C=1.0) \n",
        "\n",
        "Sigmoid_scores = cross_val_score(sigmoid_svcKfold, Featuredf,Targetclass, cv=kfold)"
      ],
      "execution_count": null,
      "outputs": []
    },
    {
      "cell_type": "code",
      "metadata": {
        "id": "xmkLjYfwBpdI",
        "colab": {
          "base_uri": "https://localhost:8080/",
          "height": 68
        },
        "outputId": "f4864ab3-142b-4e1a-f521-7c805eb7a68d"
      },
      "source": [
        "print('Stratified cross-validation scores with linear kernel:\\n\\n{}'.format(Sigmoid_scores))\n"
      ],
      "execution_count": null,
      "outputs": [
        {
          "output_type": "stream",
          "text": [
            "Stratified cross-validation scores with linear kernel:\n",
            "\n",
            "[0.9496124  0.95736434 0.96498054 0.95719844 0.98054475]\n"
          ],
          "name": "stdout"
        }
      ]
    },
    {
      "cell_type": "code",
      "metadata": {
        "id": "JXgKRlrPNNUa"
      },
      "source": [],
      "execution_count": null,
      "outputs": []
    }
  ]
}